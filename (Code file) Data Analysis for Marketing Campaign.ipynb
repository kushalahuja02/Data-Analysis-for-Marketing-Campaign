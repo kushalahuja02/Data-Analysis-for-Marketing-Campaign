{
 "cells": [
  {
   "cell_type": "markdown",
   "id": "2fb4e0c6",
   "metadata": {},
   "source": [
    "# Data analysis project for marketing campaigns\n",
    "\n",
    "**Name** - Kushal Ahuja     "
   ]
  },
  {
   "cell_type": "markdown",
   "id": "7989c845",
   "metadata": {},
   "source": [
    "### Introduction "
   ]
  },
  {
   "cell_type": "markdown",
   "id": "779d2675",
   "metadata": {},
   "source": [
    "The Telecom dataset is from the telecommunication company, The company recently launched a campaign for marketing to promote their telecom services plan and acquire new customers as well as target their current potential consumers. The organisation wants help developing a understanding their customers throught analysis practices and thus acknowledging the customer segments which demonstrate the positive response towards their marketing campaign."
   ]
  },
  {
   "cell_type": "markdown",
   "id": "f551b2f2",
   "metadata": {},
   "source": [
    "### About the Data Dictionary"
   ]
  },
  {
   "cell_type": "markdown",
   "id": "fbfdb20c",
   "metadata": {},
   "source": [
    "- **Variable Name** - Description\n",
    "- **age** - Age\n",
    "- **job** - Type of job\n",
    "- **marital** - Marital status\n",
    "- **education** - Level of education\n",
    "- **default** - Has credit in default\n",
    "- **balance** - Average yearly balance\n",
    "- **housing** - Has a housing loan\n",
    "- **loan** - Has a personal loan\n",
    "- **contact** - Contact communication type\n",
    "- **day** - Day of contact\n",
    "- **month** - Month of contact\n",
    "- **duration** - Last contact duration\n",
    "- **campaign** - Number of contacts performed during this campaign and for this client\n",
    "- **pdays** - Number of days that passed by after the client was last contacted from a previous campaign (numeric, -1 means client was not previously contacted)\n",
    "- **previous** - Number of contacts performed before this campaign and for this client\n",
    "- **poutcome** - Outcome of the previous marketing campaign\n",
    "- **emp.var.rate** - employment variation rate - quarterly indicator (numeric)\n",
    "- **cons.price.idx** - consumer price index - monthly indicator (numeric)\n",
    "- **cons.conf.idx** - consumer confidence index - monthly indicator (numeric)\n",
    "- **euribor3m** - euribor 3 month rate - daily indicator (numeric)\n",
    "- **nr.employed** - number employed - quarterly indicator (numeric)\n",
    "- **y** - Did the client subscribe to a Telecom plan "
   ]
  },
  {
   "cell_type": "markdown",
   "id": "c94f6fb0",
   "metadata": {},
   "source": [
    "###  Problem Statement"
   ]
  },
  {
   "cell_type": "markdown",
   "id": "238d54f9",
   "metadata": {},
   "source": [
    "The company do not have the insights required to target certain group of customers according to the characteristics employed in their database, this problem needs to be solved using decriptive statistics and exploratory data analysis and thus resulting in the data-driven insights which is helpful in making decisions for the company's marketing campaign"
   ]
  },
  {
   "cell_type": "markdown",
   "id": "884b535e",
   "metadata": {},
   "source": [
    "### Relevant Questions"
   ]
  },
  {
   "cell_type": "markdown",
   "id": "d4cf61d4",
   "metadata": {},
   "source": [
    "1. Are there any changes or distribution of subscription according to the profession or job of the person\n",
    "2. What role does marital status play on the subscription rate among the customers\n",
    "3. How is Educational background is relevant to the subscription"
   ]
  },
  {
   "cell_type": "markdown",
   "id": "c2784c18",
   "metadata": {},
   "source": [
    "### Hypotheses Addressed"
   ]
  },
  {
   "cell_type": "markdown",
   "id": "593afaa1",
   "metadata": {},
   "source": [
    "1. Does specific jobs have a higher chance of subscribing to the telecom services as compared to others, the company can make and append the marketing campign according to the analysis.\n",
    "2. What is the difference between the distribution of subscription among the different marital status and what are there subcription rate when compared to each other.\n",
    "3. Does the educational backgrond impact the subscription rate and if it does which background are more likely to have the subscription"
   ]
  },
  {
   "cell_type": "markdown",
   "id": "bfa93787",
   "metadata": {},
   "source": [
    "#### Importing the libraries"
   ]
  },
  {
   "cell_type": "code",
   "execution_count": 79,
   "id": "21a995ff",
   "metadata": {},
   "outputs": [],
   "source": [
    "import pandas as pd\n",
    "import numpy as np\n",
    "import matplotlib.pyplot as plt\n",
    "%matplotlib inline\n",
    "import seaborn as sns"
   ]
  },
  {
   "cell_type": "markdown",
   "id": "6d5451a1",
   "metadata": {},
   "source": [
    "### Loading the Dataset "
   ]
  },
  {
   "cell_type": "code",
   "execution_count": 80,
   "id": "0a105fe6",
   "metadata": {},
   "outputs": [
    {
     "name": "stderr",
     "output_type": "stream",
     "text": [
      "/var/folders/x8/hnnfgb_x2pld5b8q59wy9h_80000gn/T/ipykernel_72538/697754334.py:1: ParserWarning: Falling back to the 'python' engine because the 'c' engine does not support regex separators (separators > 1 char and different from '\\s+' are interpreted as regex); you can avoid this warning by specifying engine='python'.\n",
      "  df = pd.read_csv ('/Users/ahuja/Desktop/TeleCom_Data-1.csv', delimiter='\";\"')\n"
     ]
    }
   ],
   "source": [
    "df = pd.read_csv ('/Users/ahuja/Desktop/TeleCom_Data-1.csv', delimiter='\";\"')"
   ]
  },
  {
   "cell_type": "code",
   "execution_count": 81,
   "id": "33059539",
   "metadata": {},
   "outputs": [
    {
     "data": {
      "text/html": [
       "<div>\n",
       "<style scoped>\n",
       "    .dataframe tbody tr th:only-of-type {\n",
       "        vertical-align: middle;\n",
       "    }\n",
       "\n",
       "    .dataframe tbody tr th {\n",
       "        vertical-align: top;\n",
       "    }\n",
       "\n",
       "    .dataframe thead th {\n",
       "        text-align: right;\n",
       "    }\n",
       "</style>\n",
       "<table border=\"1\" class=\"dataframe\">\n",
       "  <thead>\n",
       "    <tr style=\"text-align: right;\">\n",
       "      <th></th>\n",
       "      <th>\"age;\"\"job\"</th>\n",
       "      <th>\"marital\"</th>\n",
       "      <th>\"education\"</th>\n",
       "      <th>\"default\"</th>\n",
       "      <th>\"housing\"</th>\n",
       "      <th>\"loan\"</th>\n",
       "      <th>\"contact\"</th>\n",
       "      <th>\"month\"</th>\n",
       "      <th>\"day_of_week\"</th>\n",
       "      <th>\"duration\"</th>\n",
       "      <th>\"campaign\"</th>\n",
       "      <th>\"pdays\"</th>\n",
       "      <th>\"previous\"</th>\n",
       "      <th>\"poutcome\"</th>\n",
       "      <th>\"emp.var.rate\"</th>\n",
       "      <th>\"cons.price.idx\"</th>\n",
       "      <th>\"cons.conf.idx\"</th>\n",
       "      <th>\"euribor3m\"</th>\n",
       "      <th>\"nr.employed\"</th>\n",
       "      <th>\"y\"\"\"</th>\n",
       "    </tr>\n",
       "  </thead>\n",
       "  <tbody>\n",
       "    <tr>\n",
       "      <th>0</th>\n",
       "      <td>\"40;\"\"admin.\"</td>\n",
       "      <td>\"married\"</td>\n",
       "      <td>\"basic.6y\"</td>\n",
       "      <td>\"no\"</td>\n",
       "      <td>\"no\"</td>\n",
       "      <td>\"no\"</td>\n",
       "      <td>\"telephone\"</td>\n",
       "      <td>\"may\"</td>\n",
       "      <td>\"mon\"\";151;1;999;0;\"\"nonexistent\"\";1.1;93.994;...</td>\n",
       "      <td>NaN</td>\n",
       "      <td>NaN</td>\n",
       "      <td>NaN</td>\n",
       "      <td>NaN</td>\n",
       "      <td>NaN</td>\n",
       "      <td>NaN</td>\n",
       "      <td>NaN</td>\n",
       "      <td>NaN</td>\n",
       "      <td>NaN</td>\n",
       "      <td>NaN</td>\n",
       "      <td>NaN</td>\n",
       "    </tr>\n",
       "    <tr>\n",
       "      <th>1</th>\n",
       "      <td>\"56;\"\"services\"</td>\n",
       "      <td>\"married\"</td>\n",
       "      <td>\"high.school\"</td>\n",
       "      <td>\"no\"</td>\n",
       "      <td>\"no\"</td>\n",
       "      <td>\"yes\"</td>\n",
       "      <td>\"telephone\"</td>\n",
       "      <td>\"may\"</td>\n",
       "      <td>\"mon\"\";307;1;999;0;\"\"nonexistent\"\";1.1;93.994;...</td>\n",
       "      <td>NaN</td>\n",
       "      <td>NaN</td>\n",
       "      <td>NaN</td>\n",
       "      <td>NaN</td>\n",
       "      <td>NaN</td>\n",
       "      <td>NaN</td>\n",
       "      <td>NaN</td>\n",
       "      <td>NaN</td>\n",
       "      <td>NaN</td>\n",
       "      <td>NaN</td>\n",
       "      <td>NaN</td>\n",
       "    </tr>\n",
       "    <tr>\n",
       "      <th>2</th>\n",
       "      <td>\"45;\"\"services\"</td>\n",
       "      <td>\"married\"</td>\n",
       "      <td>\"basic.9y\"</td>\n",
       "      <td>\"unknown\"</td>\n",
       "      <td>\"no\"</td>\n",
       "      <td>\"no\"</td>\n",
       "      <td>\"telephone\"</td>\n",
       "      <td>\"may\"</td>\n",
       "      <td>\"mon\"\";198;1;999;0;\"\"nonexistent\"\";1.1;93.994;...</td>\n",
       "      <td>NaN</td>\n",
       "      <td>NaN</td>\n",
       "      <td>NaN</td>\n",
       "      <td>NaN</td>\n",
       "      <td>NaN</td>\n",
       "      <td>NaN</td>\n",
       "      <td>NaN</td>\n",
       "      <td>NaN</td>\n",
       "      <td>NaN</td>\n",
       "      <td>NaN</td>\n",
       "      <td>NaN</td>\n",
       "    </tr>\n",
       "    <tr>\n",
       "      <th>3</th>\n",
       "      <td>\"59;\"\"admin.\"</td>\n",
       "      <td>\"married\"</td>\n",
       "      <td>\"professional.course\"</td>\n",
       "      <td>\"no\"</td>\n",
       "      <td>\"no\"</td>\n",
       "      <td>\"no\"</td>\n",
       "      <td>\"telephone\"</td>\n",
       "      <td>\"may\"</td>\n",
       "      <td>\"mon\"\";139;1;999;0;\"\"nonexistent\"\";1.1;93.994;...</td>\n",
       "      <td>NaN</td>\n",
       "      <td>NaN</td>\n",
       "      <td>NaN</td>\n",
       "      <td>NaN</td>\n",
       "      <td>NaN</td>\n",
       "      <td>NaN</td>\n",
       "      <td>NaN</td>\n",
       "      <td>NaN</td>\n",
       "      <td>NaN</td>\n",
       "      <td>NaN</td>\n",
       "      <td>NaN</td>\n",
       "    </tr>\n",
       "    <tr>\n",
       "      <th>4</th>\n",
       "      <td>\"41;\"\"blue-collar\"</td>\n",
       "      <td>\"married\"</td>\n",
       "      <td>\"unknown\"</td>\n",
       "      <td>\"unknown\"</td>\n",
       "      <td>\"no\"</td>\n",
       "      <td>\"no\"</td>\n",
       "      <td>\"telephone\"</td>\n",
       "      <td>\"may\"</td>\n",
       "      <td>\"mon\"\";217;1;999;0;\"\"nonexistent\"\";1.1;93.994;...</td>\n",
       "      <td>NaN</td>\n",
       "      <td>NaN</td>\n",
       "      <td>NaN</td>\n",
       "      <td>NaN</td>\n",
       "      <td>NaN</td>\n",
       "      <td>NaN</td>\n",
       "      <td>NaN</td>\n",
       "      <td>NaN</td>\n",
       "      <td>NaN</td>\n",
       "      <td>NaN</td>\n",
       "      <td>NaN</td>\n",
       "    </tr>\n",
       "  </tbody>\n",
       "</table>\n",
       "</div>"
      ],
      "text/plain": [
       "          \"age;\"\"job\"  \"marital\"            \"education\"  \"default\" \"housing\"  \\\n",
       "0       \"40;\"\"admin.\"  \"married\"             \"basic.6y\"       \"no\"      \"no\"   \n",
       "1     \"56;\"\"services\"  \"married\"          \"high.school\"       \"no\"      \"no\"   \n",
       "2     \"45;\"\"services\"  \"married\"             \"basic.9y\"  \"unknown\"      \"no\"   \n",
       "3       \"59;\"\"admin.\"  \"married\"  \"professional.course\"       \"no\"      \"no\"   \n",
       "4  \"41;\"\"blue-collar\"  \"married\"              \"unknown\"  \"unknown\"      \"no\"   \n",
       "\n",
       "  \"loan\"    \"contact\" \"month\"  \\\n",
       "0   \"no\"  \"telephone\"   \"may\"   \n",
       "1  \"yes\"  \"telephone\"   \"may\"   \n",
       "2   \"no\"  \"telephone\"   \"may\"   \n",
       "3   \"no\"  \"telephone\"   \"may\"   \n",
       "4   \"no\"  \"telephone\"   \"may\"   \n",
       "\n",
       "                                       \"day_of_week\"  \"duration\"  \"campaign\"  \\\n",
       "0  \"mon\"\";151;1;999;0;\"\"nonexistent\"\";1.1;93.994;...         NaN         NaN   \n",
       "1  \"mon\"\";307;1;999;0;\"\"nonexistent\"\";1.1;93.994;...         NaN         NaN   \n",
       "2  \"mon\"\";198;1;999;0;\"\"nonexistent\"\";1.1;93.994;...         NaN         NaN   \n",
       "3  \"mon\"\";139;1;999;0;\"\"nonexistent\"\";1.1;93.994;...         NaN         NaN   \n",
       "4  \"mon\"\";217;1;999;0;\"\"nonexistent\"\";1.1;93.994;...         NaN         NaN   \n",
       "\n",
       "   \"pdays\"  \"previous\"  \"poutcome\"  \"emp.var.rate\"  \"cons.price.idx\"  \\\n",
       "0      NaN         NaN         NaN             NaN               NaN   \n",
       "1      NaN         NaN         NaN             NaN               NaN   \n",
       "2      NaN         NaN         NaN             NaN               NaN   \n",
       "3      NaN         NaN         NaN             NaN               NaN   \n",
       "4      NaN         NaN         NaN             NaN               NaN   \n",
       "\n",
       "   \"cons.conf.idx\"  \"euribor3m\"  \"nr.employed\"  \"y\"\"\"  \n",
       "0              NaN          NaN            NaN    NaN  \n",
       "1              NaN          NaN            NaN    NaN  \n",
       "2              NaN          NaN            NaN    NaN  \n",
       "3              NaN          NaN            NaN    NaN  \n",
       "4              NaN          NaN            NaN    NaN  "
      ]
     },
     "execution_count": 81,
     "metadata": {},
     "output_type": "execute_result"
    }
   ],
   "source": [
    "df.head()"
   ]
  },
  {
   "cell_type": "markdown",
   "id": "e0d92c8d",
   "metadata": {},
   "source": [
    "#### As the dataset is having special characters and some of the colums are not splitted, the following code is processed using the replece, strip and split function to clean the dataset "
   ]
  },
  {
   "cell_type": "code",
   "execution_count": 82,
   "id": "949fac61",
   "metadata": {},
   "outputs": [],
   "source": [
    "# Removing the special charaters and spliting the column and its records\n",
    "\n",
    "with open('/Users/ahuja/Desktop/TeleCom_Data-1.csv', 'r') as file:\n",
    "    test1 = file.readlines()\n",
    "    df_cleaned = [x.replace('\"', '').strip().split(';') for x in test1]\n",
    "\n",
    "# Now Converting the output into the dataframe\n",
    "\n",
    "df2 = pd.DataFrame(df_cleaned[1:], columns=df_cleaned[0])\n",
    "\n"
   ]
  },
  {
   "cell_type": "markdown",
   "id": "ad446162",
   "metadata": {},
   "source": [
    "### Evaluating the first ten rows to see if the dataset is cleaned from special characters "
   ]
  },
  {
   "cell_type": "code",
   "execution_count": 83,
   "id": "14779fd5",
   "metadata": {},
   "outputs": [
    {
     "data": {
      "text/html": [
       "<div>\n",
       "<style scoped>\n",
       "    .dataframe tbody tr th:only-of-type {\n",
       "        vertical-align: middle;\n",
       "    }\n",
       "\n",
       "    .dataframe tbody tr th {\n",
       "        vertical-align: top;\n",
       "    }\n",
       "\n",
       "    .dataframe thead th {\n",
       "        text-align: right;\n",
       "    }\n",
       "</style>\n",
       "<table border=\"1\" class=\"dataframe\">\n",
       "  <thead>\n",
       "    <tr style=\"text-align: right;\">\n",
       "      <th></th>\n",
       "      <th>age</th>\n",
       "      <th>job</th>\n",
       "      <th>marital</th>\n",
       "      <th>education</th>\n",
       "      <th>default</th>\n",
       "      <th>housing</th>\n",
       "      <th>loan</th>\n",
       "      <th>contact</th>\n",
       "      <th>month</th>\n",
       "      <th>day_of_week</th>\n",
       "      <th>...</th>\n",
       "      <th>campaign</th>\n",
       "      <th>pdays</th>\n",
       "      <th>previous</th>\n",
       "      <th>poutcome</th>\n",
       "      <th>emp.var.rate</th>\n",
       "      <th>cons.price.idx</th>\n",
       "      <th>cons.conf.idx</th>\n",
       "      <th>euribor3m</th>\n",
       "      <th>nr.employed</th>\n",
       "      <th>y</th>\n",
       "    </tr>\n",
       "  </thead>\n",
       "  <tbody>\n",
       "    <tr>\n",
       "      <th>0</th>\n",
       "      <td>40</td>\n",
       "      <td>admin.</td>\n",
       "      <td>married</td>\n",
       "      <td>basic.6y</td>\n",
       "      <td>no</td>\n",
       "      <td>no</td>\n",
       "      <td>no</td>\n",
       "      <td>telephone</td>\n",
       "      <td>may</td>\n",
       "      <td>mon</td>\n",
       "      <td>...</td>\n",
       "      <td>1</td>\n",
       "      <td>999</td>\n",
       "      <td>0</td>\n",
       "      <td>nonexistent</td>\n",
       "      <td>1.1</td>\n",
       "      <td>93.994</td>\n",
       "      <td>-36.4</td>\n",
       "      <td>4.857</td>\n",
       "      <td>5191</td>\n",
       "      <td>no</td>\n",
       "    </tr>\n",
       "    <tr>\n",
       "      <th>1</th>\n",
       "      <td>56</td>\n",
       "      <td>services</td>\n",
       "      <td>married</td>\n",
       "      <td>high.school</td>\n",
       "      <td>no</td>\n",
       "      <td>no</td>\n",
       "      <td>yes</td>\n",
       "      <td>telephone</td>\n",
       "      <td>may</td>\n",
       "      <td>mon</td>\n",
       "      <td>...</td>\n",
       "      <td>1</td>\n",
       "      <td>999</td>\n",
       "      <td>0</td>\n",
       "      <td>nonexistent</td>\n",
       "      <td>1.1</td>\n",
       "      <td>93.994</td>\n",
       "      <td>-36.4</td>\n",
       "      <td>4.857</td>\n",
       "      <td>5191</td>\n",
       "      <td>no</td>\n",
       "    </tr>\n",
       "    <tr>\n",
       "      <th>2</th>\n",
       "      <td>45</td>\n",
       "      <td>services</td>\n",
       "      <td>married</td>\n",
       "      <td>basic.9y</td>\n",
       "      <td>unknown</td>\n",
       "      <td>no</td>\n",
       "      <td>no</td>\n",
       "      <td>telephone</td>\n",
       "      <td>may</td>\n",
       "      <td>mon</td>\n",
       "      <td>...</td>\n",
       "      <td>1</td>\n",
       "      <td>999</td>\n",
       "      <td>0</td>\n",
       "      <td>nonexistent</td>\n",
       "      <td>1.1</td>\n",
       "      <td>93.994</td>\n",
       "      <td>-36.4</td>\n",
       "      <td>4.857</td>\n",
       "      <td>5191</td>\n",
       "      <td>no</td>\n",
       "    </tr>\n",
       "    <tr>\n",
       "      <th>3</th>\n",
       "      <td>59</td>\n",
       "      <td>admin.</td>\n",
       "      <td>married</td>\n",
       "      <td>professional.course</td>\n",
       "      <td>no</td>\n",
       "      <td>no</td>\n",
       "      <td>no</td>\n",
       "      <td>telephone</td>\n",
       "      <td>may</td>\n",
       "      <td>mon</td>\n",
       "      <td>...</td>\n",
       "      <td>1</td>\n",
       "      <td>999</td>\n",
       "      <td>0</td>\n",
       "      <td>nonexistent</td>\n",
       "      <td>1.1</td>\n",
       "      <td>93.994</td>\n",
       "      <td>-36.4</td>\n",
       "      <td>4.857</td>\n",
       "      <td>5191</td>\n",
       "      <td>no</td>\n",
       "    </tr>\n",
       "    <tr>\n",
       "      <th>4</th>\n",
       "      <td>41</td>\n",
       "      <td>blue-collar</td>\n",
       "      <td>married</td>\n",
       "      <td>unknown</td>\n",
       "      <td>unknown</td>\n",
       "      <td>no</td>\n",
       "      <td>no</td>\n",
       "      <td>telephone</td>\n",
       "      <td>may</td>\n",
       "      <td>mon</td>\n",
       "      <td>...</td>\n",
       "      <td>1</td>\n",
       "      <td>999</td>\n",
       "      <td>0</td>\n",
       "      <td>nonexistent</td>\n",
       "      <td>1.1</td>\n",
       "      <td>93.994</td>\n",
       "      <td>-36.4</td>\n",
       "      <td>4.857</td>\n",
       "      <td>5191</td>\n",
       "      <td>no</td>\n",
       "    </tr>\n",
       "    <tr>\n",
       "      <th>5</th>\n",
       "      <td>24</td>\n",
       "      <td>technician</td>\n",
       "      <td>single</td>\n",
       "      <td>professional.course</td>\n",
       "      <td>no</td>\n",
       "      <td>yes</td>\n",
       "      <td>no</td>\n",
       "      <td>telephone</td>\n",
       "      <td>may</td>\n",
       "      <td>mon</td>\n",
       "      <td>...</td>\n",
       "      <td>1</td>\n",
       "      <td>999</td>\n",
       "      <td>0</td>\n",
       "      <td>nonexistent</td>\n",
       "      <td>1.1</td>\n",
       "      <td>93.994</td>\n",
       "      <td>-36.4</td>\n",
       "      <td>4.857</td>\n",
       "      <td>5191</td>\n",
       "      <td>no</td>\n",
       "    </tr>\n",
       "    <tr>\n",
       "      <th>6</th>\n",
       "      <td>25</td>\n",
       "      <td>services</td>\n",
       "      <td>single</td>\n",
       "      <td>high.school</td>\n",
       "      <td>no</td>\n",
       "      <td>yes</td>\n",
       "      <td>no</td>\n",
       "      <td>telephone</td>\n",
       "      <td>may</td>\n",
       "      <td>mon</td>\n",
       "      <td>...</td>\n",
       "      <td>1</td>\n",
       "      <td>999</td>\n",
       "      <td>0</td>\n",
       "      <td>nonexistent</td>\n",
       "      <td>1.1</td>\n",
       "      <td>93.994</td>\n",
       "      <td>-36.4</td>\n",
       "      <td>4.857</td>\n",
       "      <td>5191</td>\n",
       "      <td>no</td>\n",
       "    </tr>\n",
       "    <tr>\n",
       "      <th>7</th>\n",
       "      <td>41</td>\n",
       "      <td>blue-collar</td>\n",
       "      <td>married</td>\n",
       "      <td>unknown</td>\n",
       "      <td>unknown</td>\n",
       "      <td>no</td>\n",
       "      <td>no</td>\n",
       "      <td>telephone</td>\n",
       "      <td>may</td>\n",
       "      <td>mon</td>\n",
       "      <td>...</td>\n",
       "      <td>1</td>\n",
       "      <td>999</td>\n",
       "      <td>0</td>\n",
       "      <td>nonexistent</td>\n",
       "      <td>1.1</td>\n",
       "      <td>93.994</td>\n",
       "      <td>-36.4</td>\n",
       "      <td>4.857</td>\n",
       "      <td>5191</td>\n",
       "      <td>no</td>\n",
       "    </tr>\n",
       "    <tr>\n",
       "      <th>8</th>\n",
       "      <td>25</td>\n",
       "      <td>services</td>\n",
       "      <td>single</td>\n",
       "      <td>high.school</td>\n",
       "      <td>no</td>\n",
       "      <td>yes</td>\n",
       "      <td>no</td>\n",
       "      <td>telephone</td>\n",
       "      <td>may</td>\n",
       "      <td>mon</td>\n",
       "      <td>...</td>\n",
       "      <td>1</td>\n",
       "      <td>999</td>\n",
       "      <td>0</td>\n",
       "      <td>nonexistent</td>\n",
       "      <td>1.1</td>\n",
       "      <td>93.994</td>\n",
       "      <td>-36.4</td>\n",
       "      <td>4.857</td>\n",
       "      <td>5191</td>\n",
       "      <td>no</td>\n",
       "    </tr>\n",
       "    <tr>\n",
       "      <th>9</th>\n",
       "      <td>29</td>\n",
       "      <td>blue-collar</td>\n",
       "      <td>single</td>\n",
       "      <td>high.school</td>\n",
       "      <td>no</td>\n",
       "      <td>no</td>\n",
       "      <td>yes</td>\n",
       "      <td>telephone</td>\n",
       "      <td>may</td>\n",
       "      <td>mon</td>\n",
       "      <td>...</td>\n",
       "      <td>1</td>\n",
       "      <td>999</td>\n",
       "      <td>0</td>\n",
       "      <td>nonexistent</td>\n",
       "      <td>1.1</td>\n",
       "      <td>93.994</td>\n",
       "      <td>-36.4</td>\n",
       "      <td>4.857</td>\n",
       "      <td>5191</td>\n",
       "      <td>no</td>\n",
       "    </tr>\n",
       "  </tbody>\n",
       "</table>\n",
       "<p>10 rows × 21 columns</p>\n",
       "</div>"
      ],
      "text/plain": [
       "  age          job  marital            education  default housing loan  \\\n",
       "0  40       admin.  married             basic.6y       no      no   no   \n",
       "1  56     services  married          high.school       no      no  yes   \n",
       "2  45     services  married             basic.9y  unknown      no   no   \n",
       "3  59       admin.  married  professional.course       no      no   no   \n",
       "4  41  blue-collar  married              unknown  unknown      no   no   \n",
       "5  24   technician   single  professional.course       no     yes   no   \n",
       "6  25     services   single          high.school       no     yes   no   \n",
       "7  41  blue-collar  married              unknown  unknown      no   no   \n",
       "8  25     services   single          high.school       no     yes   no   \n",
       "9  29  blue-collar   single          high.school       no      no  yes   \n",
       "\n",
       "     contact month day_of_week  ... campaign pdays previous     poutcome  \\\n",
       "0  telephone   may         mon  ...        1   999        0  nonexistent   \n",
       "1  telephone   may         mon  ...        1   999        0  nonexistent   \n",
       "2  telephone   may         mon  ...        1   999        0  nonexistent   \n",
       "3  telephone   may         mon  ...        1   999        0  nonexistent   \n",
       "4  telephone   may         mon  ...        1   999        0  nonexistent   \n",
       "5  telephone   may         mon  ...        1   999        0  nonexistent   \n",
       "6  telephone   may         mon  ...        1   999        0  nonexistent   \n",
       "7  telephone   may         mon  ...        1   999        0  nonexistent   \n",
       "8  telephone   may         mon  ...        1   999        0  nonexistent   \n",
       "9  telephone   may         mon  ...        1   999        0  nonexistent   \n",
       "\n",
       "  emp.var.rate cons.price.idx cons.conf.idx euribor3m nr.employed   y  \n",
       "0          1.1         93.994         -36.4     4.857        5191  no  \n",
       "1          1.1         93.994         -36.4     4.857        5191  no  \n",
       "2          1.1         93.994         -36.4     4.857        5191  no  \n",
       "3          1.1         93.994         -36.4     4.857        5191  no  \n",
       "4          1.1         93.994         -36.4     4.857        5191  no  \n",
       "5          1.1         93.994         -36.4     4.857        5191  no  \n",
       "6          1.1         93.994         -36.4     4.857        5191  no  \n",
       "7          1.1         93.994         -36.4     4.857        5191  no  \n",
       "8          1.1         93.994         -36.4     4.857        5191  no  \n",
       "9          1.1         93.994         -36.4     4.857        5191  no  \n",
       "\n",
       "[10 rows x 21 columns]"
      ]
     },
     "execution_count": 83,
     "metadata": {},
     "output_type": "execute_result"
    }
   ],
   "source": [
    "df2.head(10)"
   ]
  },
  {
   "cell_type": "markdown",
   "id": "4e4563a4",
   "metadata": {},
   "source": [
    "### Evaluating the datatypes "
   ]
  },
  {
   "cell_type": "code",
   "execution_count": 84,
   "id": "188b2b96",
   "metadata": {},
   "outputs": [
    {
     "data": {
      "text/plain": [
       "age               object\n",
       "job               object\n",
       "marital           object\n",
       "education         object\n",
       "default           object\n",
       "housing           object\n",
       "loan              object\n",
       "contact           object\n",
       "month             object\n",
       "day_of_week       object\n",
       "duration          object\n",
       "campaign          object\n",
       "pdays             object\n",
       "previous          object\n",
       "poutcome          object\n",
       "emp.var.rate      object\n",
       "cons.price.idx    object\n",
       "cons.conf.idx     object\n",
       "euribor3m         object\n",
       "nr.employed       object\n",
       "y                 object\n",
       "dtype: object"
      ]
     },
     "execution_count": 84,
     "metadata": {},
     "output_type": "execute_result"
    }
   ],
   "source": [
    "df2.dtypes"
   ]
  },
  {
   "cell_type": "markdown",
   "id": "a7459ad7",
   "metadata": {},
   "source": [
    "#### Due to cleaning the dataset, the format of all attributes are changed to object, so to convert the columns in numerical and categorical according to the data dictionary, I have assigned them in the following code"
   ]
  },
  {
   "cell_type": "code",
   "execution_count": 85,
   "id": "18c2ef39",
   "metadata": {},
   "outputs": [],
   "source": [
    "# Converting the datatypes of the data frame\n",
    "\n",
    "for a in df2.columns:\n",
    "    try:\n",
    "        df2[a] = pd.to_numeric(df2[a])\n",
    "    except ValueError:\n",
    "        pass"
   ]
  },
  {
   "cell_type": "markdown",
   "id": "e48aeb56",
   "metadata": {},
   "source": [
    "### Evaluating the datatypes after converting the dataset\n"
   ]
  },
  {
   "cell_type": "code",
   "execution_count": 86,
   "id": "17fde7f6",
   "metadata": {},
   "outputs": [
    {
     "data": {
      "text/plain": [
       "age                 int64\n",
       "job                object\n",
       "marital            object\n",
       "education          object\n",
       "default            object\n",
       "housing            object\n",
       "loan               object\n",
       "contact            object\n",
       "month              object\n",
       "day_of_week        object\n",
       "duration            int64\n",
       "campaign            int64\n",
       "pdays               int64\n",
       "previous            int64\n",
       "poutcome           object\n",
       "emp.var.rate      float64\n",
       "cons.price.idx    float64\n",
       "cons.conf.idx     float64\n",
       "euribor3m         float64\n",
       "nr.employed       float64\n",
       "y                  object\n",
       "dtype: object"
      ]
     },
     "execution_count": 86,
     "metadata": {},
     "output_type": "execute_result"
    }
   ],
   "source": [
    "df2.dtypes"
   ]
  },
  {
   "cell_type": "markdown",
   "id": "8af10a3d",
   "metadata": {},
   "source": [
    "## Data Cleaning"
   ]
  },
  {
   "cell_type": "markdown",
   "id": "3eb1c005",
   "metadata": {},
   "source": [
    "As witnessed from the dataset, some columns are not splitted and the dataset has \" \" in each record, to combat this issue and remove the special character, the following code is performed"
   ]
  },
  {
   "cell_type": "markdown",
   "id": "9be9a2bc",
   "metadata": {},
   "source": [
    "### Checking for missing values "
   ]
  },
  {
   "cell_type": "code",
   "execution_count": 87,
   "id": "5d6747b0",
   "metadata": {},
   "outputs": [
    {
     "data": {
      "text/plain": [
       "age               0\n",
       "job               0\n",
       "marital           0\n",
       "education         0\n",
       "default           0\n",
       "housing           0\n",
       "loan              0\n",
       "contact           0\n",
       "month             0\n",
       "day_of_week       0\n",
       "duration          0\n",
       "campaign          0\n",
       "pdays             0\n",
       "previous          0\n",
       "poutcome          0\n",
       "emp.var.rate      0\n",
       "cons.price.idx    0\n",
       "cons.conf.idx     0\n",
       "euribor3m         0\n",
       "nr.employed       0\n",
       "y                 0\n",
       "dtype: int64"
      ]
     },
     "execution_count": 87,
     "metadata": {},
     "output_type": "execute_result"
    }
   ],
   "source": [
    "df2.isnull().sum()"
   ]
  },
  {
   "cell_type": "markdown",
   "id": "58a9d261",
   "metadata": {},
   "source": [
    "### Checking for unique values "
   ]
  },
  {
   "cell_type": "code",
   "execution_count": 88,
   "id": "8f91381c",
   "metadata": {},
   "outputs": [
    {
     "data": {
      "text/plain": [
       "age                 78\n",
       "job                 12\n",
       "marital              4\n",
       "education            8\n",
       "default              3\n",
       "housing              3\n",
       "loan                 3\n",
       "contact              2\n",
       "month               10\n",
       "day_of_week          5\n",
       "duration          1544\n",
       "campaign            42\n",
       "pdays               27\n",
       "previous             8\n",
       "poutcome             3\n",
       "emp.var.rate        10\n",
       "cons.price.idx      26\n",
       "cons.conf.idx       26\n",
       "euribor3m          316\n",
       "nr.employed         11\n",
       "y                    2\n",
       "dtype: int64"
      ]
     },
     "execution_count": 88,
     "metadata": {},
     "output_type": "execute_result"
    }
   ],
   "source": [
    "df2.nunique()"
   ]
  },
  {
   "cell_type": "code",
   "execution_count": 89,
   "id": "95a1f089",
   "metadata": {},
   "outputs": [
    {
     "name": "stdout",
     "output_type": "stream",
     "text": [
      "{'age': 31    1947\n",
      "32    1846\n",
      "33    1833\n",
      "36    1780\n",
      "35    1759\n",
      "      ... \n",
      "89       2\n",
      "91       2\n",
      "94       1\n",
      "87       1\n",
      "95       1\n",
      "Name: age, Length: 78, dtype: int64, 'job': admin.           10422\n",
      "blue-collar       9253\n",
      "technician        6742\n",
      "services          3967\n",
      "management        2923\n",
      "retired           1718\n",
      "entrepreneur      1456\n",
      "self-employed     1421\n",
      "housemaid         1059\n",
      "unemployed        1014\n",
      "student            875\n",
      "unknown            330\n",
      "Name: job, dtype: int64, 'marital': married     24921\n",
      "single      11568\n",
      "divorced     4611\n",
      "unknown        80\n",
      "Name: marital, dtype: int64, 'education': university.degree      12166\n",
      "high.school             9513\n",
      "basic.9y                6044\n",
      "professional.course     5241\n",
      "basic.4y                4175\n",
      "basic.6y                2292\n",
      "unknown                 1731\n",
      "illiterate                18\n",
      "Name: education, dtype: int64, 'default': no         32581\n",
      "unknown     8596\n",
      "yes            3\n",
      "Name: default, dtype: int64, 'housing': yes        21571\n",
      "no         18619\n",
      "unknown      990\n",
      "Name: housing, dtype: int64, 'loan': no         33943\n",
      "yes         6247\n",
      "unknown      990\n",
      "Name: loan, dtype: int64, 'contact': cellular     26140\n",
      "telephone    15040\n",
      "Name: contact, dtype: int64, 'month': may    13765\n",
      "jul     7174\n",
      "aug     6178\n",
      "jun     5318\n",
      "nov     4097\n",
      "apr     2632\n",
      "oct      718\n",
      "sep      570\n",
      "mar      546\n",
      "dec      182\n",
      "Name: month, dtype: int64, 'day_of_week': thu    8622\n",
      "mon    8509\n",
      "wed    8133\n",
      "tue    8090\n",
      "fri    7826\n",
      "Name: day_of_week, dtype: int64, 'duration': 85      170\n",
      "90      170\n",
      "136     168\n",
      "73      167\n",
      "124     164\n",
      "       ... \n",
      "1569      1\n",
      "1053      1\n",
      "1263      1\n",
      "1169      1\n",
      "1868      1\n",
      "Name: duration, Length: 1544, dtype: int64, 'campaign': 1     17637\n",
      "2     10568\n",
      "3      5340\n",
      "4      2651\n",
      "5      1599\n",
      "6       979\n",
      "7       629\n",
      "8       400\n",
      "9       283\n",
      "10      225\n",
      "11      177\n",
      "12      125\n",
      "13       92\n",
      "14       69\n",
      "17       58\n",
      "16       51\n",
      "15       51\n",
      "18       33\n",
      "20       30\n",
      "19       26\n",
      "21       24\n",
      "22       17\n",
      "23       16\n",
      "24       15\n",
      "27       11\n",
      "29       10\n",
      "28        8\n",
      "26        8\n",
      "25        8\n",
      "31        7\n",
      "30        7\n",
      "35        5\n",
      "32        4\n",
      "33        4\n",
      "34        3\n",
      "42        2\n",
      "40        2\n",
      "43        2\n",
      "56        1\n",
      "39        1\n",
      "41        1\n",
      "37        1\n",
      "Name: campaign, dtype: int64, 'pdays': 999    39667\n",
      "3        439\n",
      "6        411\n",
      "4        118\n",
      "9         64\n",
      "2         61\n",
      "7         60\n",
      "12        58\n",
      "10        52\n",
      "5         46\n",
      "13        36\n",
      "11        28\n",
      "1         25\n",
      "15        24\n",
      "14        20\n",
      "8         18\n",
      "0         15\n",
      "16        11\n",
      "17         8\n",
      "18         7\n",
      "22         3\n",
      "19         3\n",
      "21         2\n",
      "25         1\n",
      "26         1\n",
      "27         1\n",
      "20         1\n",
      "Name: pdays, dtype: int64, 'previous': 0    35559\n",
      "1     4559\n",
      "2      754\n",
      "3      216\n",
      "4       69\n",
      "5       18\n",
      "6        4\n",
      "7        1\n",
      "Name: previous, dtype: int64, 'poutcome': nonexistent    35559\n",
      "failure         4250\n",
      "success         1371\n",
      "Name: poutcome, dtype: int64, 'emp.var.rate':  1.4    16234\n",
      "-1.8     9184\n",
      " 1.1     7759\n",
      "-0.1     3683\n",
      "-2.9     1663\n",
      "-3.4     1071\n",
      "-1.7      773\n",
      "-1.1      631\n",
      "-3.0      172\n",
      "-0.2       10\n",
      "Name: emp.var.rate, dtype: int64, 'cons.price.idx': 93.994    7759\n",
      "93.918    6685\n",
      "92.893    5794\n",
      "93.444    5175\n",
      "94.465    4374\n",
      "93.200    3616\n",
      "93.075    2458\n",
      "92.201     770\n",
      "92.963     715\n",
      "92.431     447\n",
      "92.649     357\n",
      "94.215     311\n",
      "94.199     303\n",
      "92.843     282\n",
      "92.379     267\n",
      "93.369     264\n",
      "94.027     233\n",
      "94.055     229\n",
      "93.876     212\n",
      "94.601     204\n",
      "92.469     178\n",
      "93.749     174\n",
      "92.713     172\n",
      "94.767     124\n",
      "93.798      67\n",
      "92.756      10\n",
      "Name: cons.price.idx, dtype: int64, 'cons.conf.idx': -36.4    7759\n",
      "-42.7    6685\n",
      "-46.2    5794\n",
      "-36.1    5175\n",
      "-41.8    4374\n",
      "-42.0    3616\n",
      "-47.1    2458\n",
      "-31.4     770\n",
      "-40.8     715\n",
      "-26.9     447\n",
      "-30.1     357\n",
      "-40.3     311\n",
      "-37.5     303\n",
      "-50.0     282\n",
      "-29.8     267\n",
      "-34.8     264\n",
      "-38.3     233\n",
      "-39.8     229\n",
      "-40.0     212\n",
      "-49.5     204\n",
      "-33.6     178\n",
      "-34.6     174\n",
      "-33.0     172\n",
      "-50.8     124\n",
      "-40.4      67\n",
      "-45.9      10\n",
      "Name: cons.conf.idx, dtype: int64, 'euribor3m': 4.857    2864\n",
      "4.962    2613\n",
      "4.963    2487\n",
      "4.961    1902\n",
      "4.856    1210\n",
      "         ... \n",
      "0.996       1\n",
      "3.901       1\n",
      "1.574       1\n",
      "0.956       1\n",
      "3.053       1\n",
      "Name: euribor3m, Length: 316, dtype: int64, 'nr.employed': 5228.1    16234\n",
      "5099.1     8534\n",
      "5191.0     7759\n",
      "5195.8     3683\n",
      "5076.2     1663\n",
      "5017.5     1071\n",
      "4991.6      773\n",
      "5008.7      650\n",
      "4963.6      631\n",
      "5023.5      172\n",
      "5176.3       10\n",
      "Name: nr.employed, dtype: int64, 'y': no     36542\n",
      "yes     4638\n",
      "Name: y, dtype: int64}\n"
     ]
    }
   ],
   "source": [
    "# Calculating the value counts for each column using value_counts function to interpret the distinct unique values\n",
    "\n",
    "valColumn = {col: df2[col].value_counts() for col in df2.columns}\n",
    "    \n",
    "print(valColumn)\n",
    "\n"
   ]
  },
  {
   "cell_type": "markdown",
   "id": "5abb6dcb",
   "metadata": {},
   "source": [
    "### Checking for duplicate values"
   ]
  },
  {
   "cell_type": "code",
   "execution_count": 90,
   "id": "0499f0bc",
   "metadata": {},
   "outputs": [
    {
     "data": {
      "text/plain": [
       "12"
      ]
     },
     "execution_count": 90,
     "metadata": {},
     "output_type": "execute_result"
    }
   ],
   "source": [
    "#duplicates\n",
    "\n",
    "df2.duplicated().sum()"
   ]
  },
  {
   "cell_type": "code",
   "execution_count": 91,
   "id": "a7126034",
   "metadata": {},
   "outputs": [
    {
     "data": {
      "text/html": [
       "<div>\n",
       "<style scoped>\n",
       "    .dataframe tbody tr th:only-of-type {\n",
       "        vertical-align: middle;\n",
       "    }\n",
       "\n",
       "    .dataframe tbody tr th {\n",
       "        vertical-align: top;\n",
       "    }\n",
       "\n",
       "    .dataframe thead th {\n",
       "        text-align: right;\n",
       "    }\n",
       "</style>\n",
       "<table border=\"1\" class=\"dataframe\">\n",
       "  <thead>\n",
       "    <tr style=\"text-align: right;\">\n",
       "      <th></th>\n",
       "      <th>age</th>\n",
       "      <th>job</th>\n",
       "      <th>marital</th>\n",
       "      <th>education</th>\n",
       "      <th>default</th>\n",
       "      <th>housing</th>\n",
       "      <th>loan</th>\n",
       "      <th>contact</th>\n",
       "      <th>month</th>\n",
       "      <th>day_of_week</th>\n",
       "      <th>...</th>\n",
       "      <th>campaign</th>\n",
       "      <th>pdays</th>\n",
       "      <th>previous</th>\n",
       "      <th>poutcome</th>\n",
       "      <th>emp.var.rate</th>\n",
       "      <th>cons.price.idx</th>\n",
       "      <th>cons.conf.idx</th>\n",
       "      <th>euribor3m</th>\n",
       "      <th>nr.employed</th>\n",
       "      <th>y</th>\n",
       "    </tr>\n",
       "  </thead>\n",
       "  <tbody>\n",
       "    <tr>\n",
       "      <th>0</th>\n",
       "      <td>40</td>\n",
       "      <td>admin.</td>\n",
       "      <td>married</td>\n",
       "      <td>basic.6y</td>\n",
       "      <td>no</td>\n",
       "      <td>no</td>\n",
       "      <td>no</td>\n",
       "      <td>telephone</td>\n",
       "      <td>may</td>\n",
       "      <td>mon</td>\n",
       "      <td>...</td>\n",
       "      <td>1</td>\n",
       "      <td>999</td>\n",
       "      <td>0</td>\n",
       "      <td>nonexistent</td>\n",
       "      <td>1.1</td>\n",
       "      <td>93.994</td>\n",
       "      <td>-36.4</td>\n",
       "      <td>4.857</td>\n",
       "      <td>5191.0</td>\n",
       "      <td>no</td>\n",
       "    </tr>\n",
       "    <tr>\n",
       "      <th>1</th>\n",
       "      <td>56</td>\n",
       "      <td>services</td>\n",
       "      <td>married</td>\n",
       "      <td>high.school</td>\n",
       "      <td>no</td>\n",
       "      <td>no</td>\n",
       "      <td>yes</td>\n",
       "      <td>telephone</td>\n",
       "      <td>may</td>\n",
       "      <td>mon</td>\n",
       "      <td>...</td>\n",
       "      <td>1</td>\n",
       "      <td>999</td>\n",
       "      <td>0</td>\n",
       "      <td>nonexistent</td>\n",
       "      <td>1.1</td>\n",
       "      <td>93.994</td>\n",
       "      <td>-36.4</td>\n",
       "      <td>4.857</td>\n",
       "      <td>5191.0</td>\n",
       "      <td>no</td>\n",
       "    </tr>\n",
       "    <tr>\n",
       "      <th>2</th>\n",
       "      <td>45</td>\n",
       "      <td>services</td>\n",
       "      <td>married</td>\n",
       "      <td>basic.9y</td>\n",
       "      <td>unknown</td>\n",
       "      <td>no</td>\n",
       "      <td>no</td>\n",
       "      <td>telephone</td>\n",
       "      <td>may</td>\n",
       "      <td>mon</td>\n",
       "      <td>...</td>\n",
       "      <td>1</td>\n",
       "      <td>999</td>\n",
       "      <td>0</td>\n",
       "      <td>nonexistent</td>\n",
       "      <td>1.1</td>\n",
       "      <td>93.994</td>\n",
       "      <td>-36.4</td>\n",
       "      <td>4.857</td>\n",
       "      <td>5191.0</td>\n",
       "      <td>no</td>\n",
       "    </tr>\n",
       "    <tr>\n",
       "      <th>3</th>\n",
       "      <td>59</td>\n",
       "      <td>admin.</td>\n",
       "      <td>married</td>\n",
       "      <td>professional.course</td>\n",
       "      <td>no</td>\n",
       "      <td>no</td>\n",
       "      <td>no</td>\n",
       "      <td>telephone</td>\n",
       "      <td>may</td>\n",
       "      <td>mon</td>\n",
       "      <td>...</td>\n",
       "      <td>1</td>\n",
       "      <td>999</td>\n",
       "      <td>0</td>\n",
       "      <td>nonexistent</td>\n",
       "      <td>1.1</td>\n",
       "      <td>93.994</td>\n",
       "      <td>-36.4</td>\n",
       "      <td>4.857</td>\n",
       "      <td>5191.0</td>\n",
       "      <td>no</td>\n",
       "    </tr>\n",
       "    <tr>\n",
       "      <th>4</th>\n",
       "      <td>41</td>\n",
       "      <td>blue-collar</td>\n",
       "      <td>married</td>\n",
       "      <td>unknown</td>\n",
       "      <td>unknown</td>\n",
       "      <td>no</td>\n",
       "      <td>no</td>\n",
       "      <td>telephone</td>\n",
       "      <td>may</td>\n",
       "      <td>mon</td>\n",
       "      <td>...</td>\n",
       "      <td>1</td>\n",
       "      <td>999</td>\n",
       "      <td>0</td>\n",
       "      <td>nonexistent</td>\n",
       "      <td>1.1</td>\n",
       "      <td>93.994</td>\n",
       "      <td>-36.4</td>\n",
       "      <td>4.857</td>\n",
       "      <td>5191.0</td>\n",
       "      <td>no</td>\n",
       "    </tr>\n",
       "    <tr>\n",
       "      <th>...</th>\n",
       "      <td>...</td>\n",
       "      <td>...</td>\n",
       "      <td>...</td>\n",
       "      <td>...</td>\n",
       "      <td>...</td>\n",
       "      <td>...</td>\n",
       "      <td>...</td>\n",
       "      <td>...</td>\n",
       "      <td>...</td>\n",
       "      <td>...</td>\n",
       "      <td>...</td>\n",
       "      <td>...</td>\n",
       "      <td>...</td>\n",
       "      <td>...</td>\n",
       "      <td>...</td>\n",
       "      <td>...</td>\n",
       "      <td>...</td>\n",
       "      <td>...</td>\n",
       "      <td>...</td>\n",
       "      <td>...</td>\n",
       "      <td>...</td>\n",
       "    </tr>\n",
       "    <tr>\n",
       "      <th>41175</th>\n",
       "      <td>29</td>\n",
       "      <td>unemployed</td>\n",
       "      <td>single</td>\n",
       "      <td>basic.4y</td>\n",
       "      <td>no</td>\n",
       "      <td>yes</td>\n",
       "      <td>no</td>\n",
       "      <td>cellular</td>\n",
       "      <td>nov</td>\n",
       "      <td>fri</td>\n",
       "      <td>...</td>\n",
       "      <td>1</td>\n",
       "      <td>9</td>\n",
       "      <td>1</td>\n",
       "      <td>success</td>\n",
       "      <td>-1.1</td>\n",
       "      <td>94.767</td>\n",
       "      <td>-50.8</td>\n",
       "      <td>1.028</td>\n",
       "      <td>4963.6</td>\n",
       "      <td>no</td>\n",
       "    </tr>\n",
       "    <tr>\n",
       "      <th>41176</th>\n",
       "      <td>73</td>\n",
       "      <td>retired</td>\n",
       "      <td>married</td>\n",
       "      <td>professional.course</td>\n",
       "      <td>no</td>\n",
       "      <td>yes</td>\n",
       "      <td>no</td>\n",
       "      <td>cellular</td>\n",
       "      <td>nov</td>\n",
       "      <td>fri</td>\n",
       "      <td>...</td>\n",
       "      <td>1</td>\n",
       "      <td>999</td>\n",
       "      <td>0</td>\n",
       "      <td>nonexistent</td>\n",
       "      <td>-1.1</td>\n",
       "      <td>94.767</td>\n",
       "      <td>-50.8</td>\n",
       "      <td>1.028</td>\n",
       "      <td>4963.6</td>\n",
       "      <td>yes</td>\n",
       "    </tr>\n",
       "    <tr>\n",
       "      <th>41177</th>\n",
       "      <td>46</td>\n",
       "      <td>blue-collar</td>\n",
       "      <td>married</td>\n",
       "      <td>professional.course</td>\n",
       "      <td>no</td>\n",
       "      <td>no</td>\n",
       "      <td>no</td>\n",
       "      <td>cellular</td>\n",
       "      <td>nov</td>\n",
       "      <td>fri</td>\n",
       "      <td>...</td>\n",
       "      <td>1</td>\n",
       "      <td>999</td>\n",
       "      <td>0</td>\n",
       "      <td>nonexistent</td>\n",
       "      <td>-1.1</td>\n",
       "      <td>94.767</td>\n",
       "      <td>-50.8</td>\n",
       "      <td>1.028</td>\n",
       "      <td>4963.6</td>\n",
       "      <td>no</td>\n",
       "    </tr>\n",
       "    <tr>\n",
       "      <th>41178</th>\n",
       "      <td>56</td>\n",
       "      <td>retired</td>\n",
       "      <td>married</td>\n",
       "      <td>university.degree</td>\n",
       "      <td>no</td>\n",
       "      <td>yes</td>\n",
       "      <td>no</td>\n",
       "      <td>cellular</td>\n",
       "      <td>nov</td>\n",
       "      <td>fri</td>\n",
       "      <td>...</td>\n",
       "      <td>2</td>\n",
       "      <td>999</td>\n",
       "      <td>0</td>\n",
       "      <td>nonexistent</td>\n",
       "      <td>-1.1</td>\n",
       "      <td>94.767</td>\n",
       "      <td>-50.8</td>\n",
       "      <td>1.028</td>\n",
       "      <td>4963.6</td>\n",
       "      <td>no</td>\n",
       "    </tr>\n",
       "    <tr>\n",
       "      <th>41179</th>\n",
       "      <td>44</td>\n",
       "      <td>technician</td>\n",
       "      <td>married</td>\n",
       "      <td>professional.course</td>\n",
       "      <td>no</td>\n",
       "      <td>no</td>\n",
       "      <td>no</td>\n",
       "      <td>cellular</td>\n",
       "      <td>nov</td>\n",
       "      <td>fri</td>\n",
       "      <td>...</td>\n",
       "      <td>1</td>\n",
       "      <td>999</td>\n",
       "      <td>0</td>\n",
       "      <td>nonexistent</td>\n",
       "      <td>-1.1</td>\n",
       "      <td>94.767</td>\n",
       "      <td>-50.8</td>\n",
       "      <td>1.028</td>\n",
       "      <td>4963.6</td>\n",
       "      <td>yes</td>\n",
       "    </tr>\n",
       "  </tbody>\n",
       "</table>\n",
       "<p>41168 rows × 21 columns</p>\n",
       "</div>"
      ],
      "text/plain": [
       "       age          job  marital            education  default housing loan  \\\n",
       "0       40       admin.  married             basic.6y       no      no   no   \n",
       "1       56     services  married          high.school       no      no  yes   \n",
       "2       45     services  married             basic.9y  unknown      no   no   \n",
       "3       59       admin.  married  professional.course       no      no   no   \n",
       "4       41  blue-collar  married              unknown  unknown      no   no   \n",
       "...    ...          ...      ...                  ...      ...     ...  ...   \n",
       "41175   29   unemployed   single             basic.4y       no     yes   no   \n",
       "41176   73      retired  married  professional.course       no     yes   no   \n",
       "41177   46  blue-collar  married  professional.course       no      no   no   \n",
       "41178   56      retired  married    university.degree       no     yes   no   \n",
       "41179   44   technician  married  professional.course       no      no   no   \n",
       "\n",
       "         contact month day_of_week  ...  campaign  pdays  previous  \\\n",
       "0      telephone   may         mon  ...         1    999         0   \n",
       "1      telephone   may         mon  ...         1    999         0   \n",
       "2      telephone   may         mon  ...         1    999         0   \n",
       "3      telephone   may         mon  ...         1    999         0   \n",
       "4      telephone   may         mon  ...         1    999         0   \n",
       "...          ...   ...         ...  ...       ...    ...       ...   \n",
       "41175   cellular   nov         fri  ...         1      9         1   \n",
       "41176   cellular   nov         fri  ...         1    999         0   \n",
       "41177   cellular   nov         fri  ...         1    999         0   \n",
       "41178   cellular   nov         fri  ...         2    999         0   \n",
       "41179   cellular   nov         fri  ...         1    999         0   \n",
       "\n",
       "          poutcome emp.var.rate  cons.price.idx  cons.conf.idx  euribor3m  \\\n",
       "0      nonexistent          1.1          93.994          -36.4      4.857   \n",
       "1      nonexistent          1.1          93.994          -36.4      4.857   \n",
       "2      nonexistent          1.1          93.994          -36.4      4.857   \n",
       "3      nonexistent          1.1          93.994          -36.4      4.857   \n",
       "4      nonexistent          1.1          93.994          -36.4      4.857   \n",
       "...            ...          ...             ...            ...        ...   \n",
       "41175      success         -1.1          94.767          -50.8      1.028   \n",
       "41176  nonexistent         -1.1          94.767          -50.8      1.028   \n",
       "41177  nonexistent         -1.1          94.767          -50.8      1.028   \n",
       "41178  nonexistent         -1.1          94.767          -50.8      1.028   \n",
       "41179  nonexistent         -1.1          94.767          -50.8      1.028   \n",
       "\n",
       "       nr.employed    y  \n",
       "0           5191.0   no  \n",
       "1           5191.0   no  \n",
       "2           5191.0   no  \n",
       "3           5191.0   no  \n",
       "4           5191.0   no  \n",
       "...            ...  ...  \n",
       "41175       4963.6   no  \n",
       "41176       4963.6  yes  \n",
       "41177       4963.6   no  \n",
       "41178       4963.6   no  \n",
       "41179       4963.6  yes  \n",
       "\n",
       "[41168 rows x 21 columns]"
      ]
     },
     "execution_count": 91,
     "metadata": {},
     "output_type": "execute_result"
    }
   ],
   "source": [
    "df2.drop_duplicates()"
   ]
  },
  {
   "cell_type": "code",
   "execution_count": 92,
   "id": "26e6c453",
   "metadata": {},
   "outputs": [],
   "source": [
    "# Droping the duplicates from the dataset\n",
    "\n",
    "dfrows = df2.shape[0]\n",
    "df2 = df2.drop_duplicates()"
   ]
  },
  {
   "cell_type": "code",
   "execution_count": 93,
   "id": "f3bee3a2",
   "metadata": {},
   "outputs": [
    {
     "data": {
      "text/plain": [
       "0"
      ]
     },
     "execution_count": 93,
     "metadata": {},
     "output_type": "execute_result"
    }
   ],
   "source": [
    "df2.duplicated().sum()"
   ]
  },
  {
   "cell_type": "code",
   "execution_count": 94,
   "id": "ef7e976b",
   "metadata": {},
   "outputs": [
    {
     "name": "stdout",
     "output_type": "stream",
     "text": [
      "[999   6   4   3   5   1   0  10   7   8   9  11   2  12  13  14  15  16\n",
      "  21  17  18  22  25  26  19  27  20]\n"
     ]
    }
   ],
   "source": [
    "# checking unique values in pdays as it consists of value 999 many times\n",
    "unique_pdays = df2['pdays'].unique()\n",
    "print(unique_pdays)"
   ]
  },
  {
   "cell_type": "code",
   "execution_count": 95,
   "id": "89fd1a38",
   "metadata": {},
   "outputs": [
    {
     "data": {
      "text/plain": [
       "999    39655\n",
       "3        439\n",
       "6        411\n",
       "4        118\n",
       "9         64\n",
       "2         61\n",
       "7         60\n",
       "12        58\n",
       "10        52\n",
       "5         46\n",
       "13        36\n",
       "11        28\n",
       "1         25\n",
       "15        24\n",
       "14        20\n",
       "8         18\n",
       "0         15\n",
       "16        11\n",
       "17         8\n",
       "18         7\n",
       "22         3\n",
       "19         3\n",
       "21         2\n",
       "25         1\n",
       "26         1\n",
       "27         1\n",
       "20         1\n",
       "Name: pdays, dtype: int64"
      ]
     },
     "execution_count": 95,
     "metadata": {},
     "output_type": "execute_result"
    }
   ],
   "source": [
    "df2['pdays'].value_counts()"
   ]
  },
  {
   "cell_type": "markdown",
   "id": "9f72d5f8",
   "metadata": {},
   "source": [
    "#### Got to know that '999' indicates the missing values in the pdays, I have not replaced or filled this as I will not be using this column for the analysis"
   ]
  },
  {
   "cell_type": "markdown",
   "id": "42109c83",
   "metadata": {},
   "source": [
    "## Descriptive Statistics"
   ]
  },
  {
   "cell_type": "code",
   "execution_count": 96,
   "id": "21bc6a70",
   "metadata": {},
   "outputs": [
    {
     "data": {
      "text/html": [
       "<div>\n",
       "<style scoped>\n",
       "    .dataframe tbody tr th:only-of-type {\n",
       "        vertical-align: middle;\n",
       "    }\n",
       "\n",
       "    .dataframe tbody tr th {\n",
       "        vertical-align: top;\n",
       "    }\n",
       "\n",
       "    .dataframe thead th {\n",
       "        text-align: right;\n",
       "    }\n",
       "</style>\n",
       "<table border=\"1\" class=\"dataframe\">\n",
       "  <thead>\n",
       "    <tr style=\"text-align: right;\">\n",
       "      <th></th>\n",
       "      <th>age</th>\n",
       "      <th>duration</th>\n",
       "      <th>campaign</th>\n",
       "      <th>pdays</th>\n",
       "      <th>previous</th>\n",
       "      <th>emp.var.rate</th>\n",
       "      <th>cons.price.idx</th>\n",
       "      <th>cons.conf.idx</th>\n",
       "      <th>euribor3m</th>\n",
       "      <th>nr.employed</th>\n",
       "    </tr>\n",
       "  </thead>\n",
       "  <tbody>\n",
       "    <tr>\n",
       "      <th>count</th>\n",
       "      <td>41168.000000</td>\n",
       "      <td>41168.000000</td>\n",
       "      <td>41168.000000</td>\n",
       "      <td>41168.000000</td>\n",
       "      <td>41168.000000</td>\n",
       "      <td>41168.000000</td>\n",
       "      <td>41168.000000</td>\n",
       "      <td>41168.000000</td>\n",
       "      <td>41168.000000</td>\n",
       "      <td>41168.000000</td>\n",
       "    </tr>\n",
       "    <tr>\n",
       "      <th>mean</th>\n",
       "      <td>40.021449</td>\n",
       "      <td>258.311237</td>\n",
       "      <td>2.568087</td>\n",
       "      <td>962.506073</td>\n",
       "      <td>0.172756</td>\n",
       "      <td>0.081937</td>\n",
       "      <td>93.575563</td>\n",
       "      <td>-40.502261</td>\n",
       "      <td>3.621425</td>\n",
       "      <td>5167.052308</td>\n",
       "    </tr>\n",
       "    <tr>\n",
       "      <th>std</th>\n",
       "      <td>10.419022</td>\n",
       "      <td>259.325938</td>\n",
       "      <td>2.770530</td>\n",
       "      <td>186.835214</td>\n",
       "      <td>0.493782</td>\n",
       "      <td>1.570960</td>\n",
       "      <td>0.578761</td>\n",
       "      <td>4.627020</td>\n",
       "      <td>1.734375</td>\n",
       "      <td>72.230165</td>\n",
       "    </tr>\n",
       "    <tr>\n",
       "      <th>min</th>\n",
       "      <td>17.000000</td>\n",
       "      <td>0.000000</td>\n",
       "      <td>1.000000</td>\n",
       "      <td>0.000000</td>\n",
       "      <td>0.000000</td>\n",
       "      <td>-3.400000</td>\n",
       "      <td>92.201000</td>\n",
       "      <td>-50.800000</td>\n",
       "      <td>0.634000</td>\n",
       "      <td>4963.600000</td>\n",
       "    </tr>\n",
       "    <tr>\n",
       "      <th>25%</th>\n",
       "      <td>32.000000</td>\n",
       "      <td>102.000000</td>\n",
       "      <td>1.000000</td>\n",
       "      <td>999.000000</td>\n",
       "      <td>0.000000</td>\n",
       "      <td>-1.800000</td>\n",
       "      <td>93.075000</td>\n",
       "      <td>-42.700000</td>\n",
       "      <td>1.344000</td>\n",
       "      <td>5099.100000</td>\n",
       "    </tr>\n",
       "    <tr>\n",
       "      <th>50%</th>\n",
       "      <td>38.000000</td>\n",
       "      <td>180.000000</td>\n",
       "      <td>2.000000</td>\n",
       "      <td>999.000000</td>\n",
       "      <td>0.000000</td>\n",
       "      <td>1.100000</td>\n",
       "      <td>93.749000</td>\n",
       "      <td>-41.800000</td>\n",
       "      <td>4.857000</td>\n",
       "      <td>5191.000000</td>\n",
       "    </tr>\n",
       "    <tr>\n",
       "      <th>75%</th>\n",
       "      <td>47.000000</td>\n",
       "      <td>319.000000</td>\n",
       "      <td>3.000000</td>\n",
       "      <td>999.000000</td>\n",
       "      <td>0.000000</td>\n",
       "      <td>1.400000</td>\n",
       "      <td>93.994000</td>\n",
       "      <td>-36.400000</td>\n",
       "      <td>4.961000</td>\n",
       "      <td>5228.100000</td>\n",
       "    </tr>\n",
       "    <tr>\n",
       "      <th>max</th>\n",
       "      <td>98.000000</td>\n",
       "      <td>4918.000000</td>\n",
       "      <td>56.000000</td>\n",
       "      <td>999.000000</td>\n",
       "      <td>7.000000</td>\n",
       "      <td>1.400000</td>\n",
       "      <td>94.767000</td>\n",
       "      <td>-26.900000</td>\n",
       "      <td>5.045000</td>\n",
       "      <td>5228.100000</td>\n",
       "    </tr>\n",
       "  </tbody>\n",
       "</table>\n",
       "</div>"
      ],
      "text/plain": [
       "                age      duration      campaign         pdays      previous  \\\n",
       "count  41168.000000  41168.000000  41168.000000  41168.000000  41168.000000   \n",
       "mean      40.021449    258.311237      2.568087    962.506073      0.172756   \n",
       "std       10.419022    259.325938      2.770530    186.835214      0.493782   \n",
       "min       17.000000      0.000000      1.000000      0.000000      0.000000   \n",
       "25%       32.000000    102.000000      1.000000    999.000000      0.000000   \n",
       "50%       38.000000    180.000000      2.000000    999.000000      0.000000   \n",
       "75%       47.000000    319.000000      3.000000    999.000000      0.000000   \n",
       "max       98.000000   4918.000000     56.000000    999.000000      7.000000   \n",
       "\n",
       "       emp.var.rate  cons.price.idx  cons.conf.idx     euribor3m   nr.employed  \n",
       "count  41168.000000    41168.000000   41168.000000  41168.000000  41168.000000  \n",
       "mean       0.081937       93.575563     -40.502261      3.621425   5167.052308  \n",
       "std        1.570960        0.578761       4.627020      1.734375     72.230165  \n",
       "min       -3.400000       92.201000     -50.800000      0.634000   4963.600000  \n",
       "25%       -1.800000       93.075000     -42.700000      1.344000   5099.100000  \n",
       "50%        1.100000       93.749000     -41.800000      4.857000   5191.000000  \n",
       "75%        1.400000       93.994000     -36.400000      4.961000   5228.100000  \n",
       "max        1.400000       94.767000     -26.900000      5.045000   5228.100000  "
      ]
     },
     "execution_count": 96,
     "metadata": {},
     "output_type": "execute_result"
    }
   ],
   "source": [
    "df2.describe()"
   ]
  },
  {
   "cell_type": "code",
   "execution_count": 97,
   "id": "13d29018",
   "metadata": {},
   "outputs": [
    {
     "name": "stdout",
     "output_type": "stream",
     "text": [
      "             count unique                top   freq\n",
      "job          41168     12             admin.  10419\n",
      "marital      41168      4            married  24914\n",
      "education    41168      8  university.degree  12162\n",
      "default      41168      3                 no  32570\n",
      "housing      41168      3                yes  21566\n",
      "loan         41168      3                 no  33931\n",
      "contact      41168      2           cellular  26131\n",
      "month        41168     10                may  13763\n",
      "day_of_week  41168      5                thu   8617\n",
      "poutcome     41168      3        nonexistent  35547\n",
      "y            41168      2                 no  36531\n"
     ]
    }
   ],
   "source": [
    "# Descriptive statistics for the categorical columns\n",
    "\n",
    "categorical_columns = df2.describe(include=[object]).transpose()\n",
    "\n",
    "print(categorical_columns)"
   ]
  },
  {
   "cell_type": "code",
   "execution_count": null,
   "id": "cec002ad",
   "metadata": {},
   "outputs": [],
   "source": []
  },
  {
   "cell_type": "markdown",
   "id": "d9eb3e6f",
   "metadata": {},
   "source": [
    "### Demonstrating the hypothesis using Exploratory Data Analysis"
   ]
  },
  {
   "cell_type": "markdown",
   "id": "b8076352",
   "metadata": {},
   "source": [
    "1. Does specific jobs have a higher chance of subscribing to the telecom services as compared to others, the company can make and append the marketing campign according to the analysis.\n",
    "2. What is the difference between the distribution of subscription among the different marital status and what are there subcription rate when compared to each other.\n",
    "3. Does the educational backgrond impact the subscription rate and if it does which background are more likely to have the subscription"
   ]
  },
  {
   "cell_type": "markdown",
   "id": "289d728b",
   "metadata": {},
   "source": [
    "### 1. The relation between the job and subscription"
   ]
  },
  {
   "cell_type": "code",
   "execution_count": 98,
   "id": "720f6741",
   "metadata": {},
   "outputs": [
    {
     "data": {
      "image/png": "[encoded data removed]",
      "text/plain": [
       "<Figure size 864x648 with 1 Axes>"
      ]
     },
     "metadata": {
      "needs_background": "light"
     },
     "output_type": "display_data"
    }
   ],
   "source": [
    "plt.figure(figsize=(12,9))\n",
    "sns.countplot(data=df2, x='job', hue='y', order=df2['job'].value_counts().index, palette = 'pastel')\n",
    "plt.title('Job categories relation to Subscription', fontsize=18)\n",
    "plt.xlabel('Job Category', fontsize=14)\n",
    "plt.legend(title='Subscription')\n",
    "plt.tight_layout() #used tight_layout() function to automatically adjusts the figure size and the elements as to avoid overlapping between the columns \n",
    "plt.show()"
   ]
  },
  {
   "cell_type": "markdown",
   "id": "2b8674f0",
   "metadata": {},
   "source": [
    "### Calculating and plotting the Subscription rate among the Job Categories"
   ]
  },
  {
   "cell_type": "code",
   "execution_count": 99,
   "id": "27de6456",
   "metadata": {},
   "outputs": [],
   "source": [
    "# Converting the subscription column i.e., Y in numerical values to calculate the subcription rate and plot them\n",
    "df2['y'] = df2['y'].map({'yes': 1, 'no': 0}) # used map() function here"
   ]
  },
  {
   "cell_type": "code",
   "execution_count": 100,
   "id": "05e34b88",
   "metadata": {},
   "outputs": [
    {
     "data": {
      "image/png": "[encoded data removed]",
      "text/plain": [
       "<Figure size 864x648 with 1 Axes>"
      ]
     },
     "metadata": {
      "needs_background": "light"
     },
     "output_type": "display_data"
    }
   ],
   "source": [
    "# Calculating the subscription rate of job by using the group by and mean function and converting the result in percentage\n",
    "subscription_job = df2.groupby ('job')['y'].mean() * 100\n",
    "\n",
    "# Plotting\n",
    "plt.figure(figsize=(12, 9))\n",
    "subscription_job.sort_values().plot(kind='bar', color='#FFD1A1')\n",
    "plt.title(\"Subscription Rate according to Job Type\", fontsize=18)\n",
    "plt.xlabel(\"Percentage of Subscribers Proportion\", fontsize=14)\n",
    "plt.ylabel(\"Job\", fontsize=14)\n",
    "plt.tight_layout()\n",
    "plt.xticks(rotation=0)\n",
    "plt.show()"
   ]
  },
  {
   "cell_type": "markdown",
   "id": "5ea88924",
   "metadata": {},
   "source": [
    "It is evident from the above graph that the count of admin jobs, blue-collar jobs, technicians are more, but in comparison to the conversion rate for subcription, it can be noticed that the students and retired people have a higher conversion rate, thus company can also imply marketing campigns aligned with the studnets and retired population for better conversion, likewise the company should also focus on the people from majority of the jobs i.e., admin, blue-collar and technician, they can create a marketing campign aligning to the jobs using this analysis."
   ]
  },
  {
   "cell_type": "markdown",
   "id": "bec368d3",
   "metadata": {},
   "source": [
    "### 2. The relation between Subscription and Marital Status"
   ]
  },
  {
   "cell_type": "code",
   "execution_count": 101,
   "id": "ee83cc6a",
   "metadata": {},
   "outputs": [
    {
     "data": {
      "image/png": "[encoded data removed]",
      "text/plain": [
       "<Figure size 864x648 with 1 Axes>"
      ]
     },
     "metadata": {
      "needs_background": "light"
     },
     "output_type": "display_data"
    }
   ],
   "source": [
    "plt.figure(figsize=(12,9))\n",
    "sns.countplot(data=df2, x='marital', hue='y', order=df2['marital'].value_counts().index, palette = 'pastel')\n",
    "plt.title(\"Subscription among the various Marital Status\")\n",
    "plt.xlabel(\"Marital Status\")\n",
    "plt.legend(title='Subscription')\n",
    "plt.tight_layout()\n",
    "plt.show()"
   ]
  },
  {
   "cell_type": "markdown",
   "id": "6b18eda3",
   "metadata": {},
   "source": [
    "It is evident from the barchart that the married customers are in majority in terms of the count, followed by single and divorced, based on this insight the company can target the customer group according to their marital status. \n",
    "Moreover, it can also be witnessed from the figure that customers who are singles have higher subscription rate in comparison of others marital status. \n",
    "To calculate the subscription rate among the customers based on the marital status, the following procedure is performed."
   ]
  },
  {
   "cell_type": "markdown",
   "id": "cebd47d9",
   "metadata": {},
   "source": [
    "### Calculating the subscrption rate of customers according to marital status"
   ]
  },
  {
   "cell_type": "code",
   "execution_count": 102,
   "id": "09de6640",
   "metadata": {},
   "outputs": [
    {
     "data": {
      "image/png": "[encoded data removed]",
      "text/plain": [
       "<Figure size 864x504 with 1 Axes>"
      ]
     },
     "metadata": {
      "needs_background": "light"
     },
     "output_type": "display_data"
    }
   ],
   "source": [
    "# generating the proportion of subscription rate among the marital status of customers \n",
    "subscription_rate_of_m = df2.groupby('marital')['y'].mean() * 100 # used the 'y' column directly since it is converted in the above hypothesis \n",
    "\n",
    "# Plotting the figure\n",
    "\n",
    "plt.figure(figsize=(12, 7))\n",
    "subscription_rate_of_m.sort_values().plot(kind='bar', color='#FFD1A1')\n",
    "plt.title(\"Percentage of Subscription Rate among the Customers by Marital Status\", fontsize = 18)\n",
    "plt.ylabel(\"Percentage of Subscribers Proportion\", fontsize = 14)\n",
    "plt.xlabel(\"Marital Status\", fontsize = 14)\n",
    "plt.xticks(rotation=0)\n",
    "plt.tight_layout()\n",
    "plt.show()\n"
   ]
  },
  {
   "cell_type": "markdown",
   "id": "16a08a13",
   "metadata": {},
   "source": [
    "It is evident from the above the above bar chart that the subscription rate or the conversion rate when compared to the count of individual attribute is highest for people who are single, followed by divorced and married. \n",
    "The company can make marketing campign aliging to this analysis as they might target the married as the conversion rate is lower and populdatio is higher, or in contrast can consider the specific marketing ads or campign for single and divorced as the conversion rate is higher. "
   ]
  },
  {
   "cell_type": "markdown",
   "id": "459a128f",
   "metadata": {},
   "source": [
    "### 3. The relation between Eduaction background and Subscription Rate"
   ]
  },
  {
   "cell_type": "code",
   "execution_count": 103,
   "id": "bbb172d6",
   "metadata": {},
   "outputs": [
    {
     "data": {
      "image/png": "[encoded data removed]",
      "text/plain": [
       "<Figure size 864x648 with 1 Axes>"
      ]
     },
     "metadata": {
      "needs_background": "light"
     },
     "output_type": "display_data"
    }
   ],
   "source": [
    "plt.figure(figsize=(12,9))\n",
    "sns.countplot(data=df2, x='education', hue='y', order=df2['education'].value_counts().index, palette = 'pastel')\n",
    "plt.title('Education Background relation to Subscription', fontsize=18)\n",
    "plt.xlabel('Education Background', fontsize=14)\n",
    "plt.legend(title='Subscription')\n",
    "plt.tight_layout() \n",
    "plt.show()"
   ]
  },
  {
   "cell_type": "markdown",
   "id": "0805f77c",
   "metadata": {},
   "source": [
    "It can be inferred from the chart that the count of university degree and high school are the most which means that majority of the customers are having this eduactional background, lets calculate the subscription rate from this attribute, which will help processing the analysis further"
   ]
  },
  {
   "cell_type": "code",
   "execution_count": 104,
   "id": "9e82717e",
   "metadata": {},
   "outputs": [
    {
     "data": {
      "image/png": "[encoded data removed]",
      "text/plain": [
       "<Figure size 864x504 with 1 Axes>"
      ]
     },
     "metadata": {
      "needs_background": "light"
     },
     "output_type": "display_data"
    }
   ],
   "source": [
    "# generating the proportion of subscription rate among the marital status of customers \n",
    "subscription_rate_edu = df2.groupby('education')['y'].mean() * 100 # used the 'y' column directly since it is converted in the above hypothesis \n",
    "\n",
    "# Plotting the figure\n",
    "\n",
    "plt.figure(figsize=(12, 7))\n",
    "subscription_rate_edu.sort_values().plot(kind='bar', color='#FFD1A1')\n",
    "plt.title(\"Percentage of Subscription Rate among the Customers by Education Background\", fontsize = 18)\n",
    "plt.ylabel(\"Percentage of Subscribers Proportion\", fontsize = 14)\n",
    "plt.xlabel(\"Education Background\", fontsize = 14)\n",
    "plt.tight_layout()\n",
    "plt.xticks(rotation=0)\n",
    "plt.show()\n"
   ]
  },
  {
   "cell_type": "markdown",
   "id": "0658eb2f",
   "metadata": {},
   "source": [
    "It is evident from the above chart that individuals belonging to literate and university degree has a higher subscription rate compared to other, thus company can imply the marketing techniques to target the consumers of this group of education background."
   ]
  },
  {
   "cell_type": "markdown",
   "id": "e12b9761",
   "metadata": {},
   "source": [
    "# Assignment 3 starts from here "
   ]
  },
  {
   "cell_type": "markdown",
   "id": "9c56b94f",
   "metadata": {},
   "source": [
    "## Modelling "
   ]
  },
  {
   "cell_type": "code",
   "execution_count": 105,
   "id": "010d649f",
   "metadata": {},
   "outputs": [],
   "source": [
    "from sklearn.preprocessing import LabelEncoder\n",
    "\n",
    "# Using label encoder dunction for categorical variables to perform modelling procedure\n",
    "label_enc = LabelEncoder()\n",
    "\n",
    "# Apply label encoding to each categorical column\n",
    "for column in df2.select_dtypes(include=['object']).columns:\n",
    "    df2[column] = label_enc.fit_transform(df2[column])"
   ]
  },
  {
   "cell_type": "markdown",
   "id": "bc384455",
   "metadata": {},
   "source": [
    "### Scaling the dataset "
   ]
  },
  {
   "cell_type": "code",
   "execution_count": 106,
   "id": "e214ab85",
   "metadata": {},
   "outputs": [
    {
     "data": {
      "text/html": [
       "<div>\n",
       "<style scoped>\n",
       "    .dataframe tbody tr th:only-of-type {\n",
       "        vertical-align: middle;\n",
       "    }\n",
       "\n",
       "    .dataframe tbody tr th {\n",
       "        vertical-align: top;\n",
       "    }\n",
       "\n",
       "    .dataframe thead th {\n",
       "        text-align: right;\n",
       "    }\n",
       "</style>\n",
       "<table border=\"1\" class=\"dataframe\">\n",
       "  <thead>\n",
       "    <tr style=\"text-align: right;\">\n",
       "      <th></th>\n",
       "      <th>age</th>\n",
       "      <th>job</th>\n",
       "      <th>marital</th>\n",
       "      <th>education</th>\n",
       "      <th>default</th>\n",
       "      <th>housing</th>\n",
       "      <th>loan</th>\n",
       "      <th>contact</th>\n",
       "      <th>month</th>\n",
       "      <th>day_of_week</th>\n",
       "      <th>...</th>\n",
       "      <th>campaign</th>\n",
       "      <th>pdays</th>\n",
       "      <th>previous</th>\n",
       "      <th>poutcome</th>\n",
       "      <th>emp.var.rate</th>\n",
       "      <th>cons.price.idx</th>\n",
       "      <th>cons.conf.idx</th>\n",
       "      <th>euribor3m</th>\n",
       "      <th>nr.employed</th>\n",
       "      <th>y</th>\n",
       "    </tr>\n",
       "  </thead>\n",
       "  <tbody>\n",
       "    <tr>\n",
       "      <th>0</th>\n",
       "      <td>-0.002059</td>\n",
       "      <td>0</td>\n",
       "      <td>1</td>\n",
       "      <td>1</td>\n",
       "      <td>0</td>\n",
       "      <td>0</td>\n",
       "      <td>0</td>\n",
       "      <td>1</td>\n",
       "      <td>6</td>\n",
       "      <td>1</td>\n",
       "      <td>...</td>\n",
       "      <td>-0.565995</td>\n",
       "      <td>0.195329</td>\n",
       "      <td>-0.349866</td>\n",
       "      <td>1</td>\n",
       "      <td>0.648059</td>\n",
       "      <td>0.722995</td>\n",
       "      <td>0.886599</td>\n",
       "      <td>0.712412</td>\n",
       "      <td>0.331551</td>\n",
       "      <td>0</td>\n",
       "    </tr>\n",
       "    <tr>\n",
       "      <th>1</th>\n",
       "      <td>1.533613</td>\n",
       "      <td>7</td>\n",
       "      <td>1</td>\n",
       "      <td>3</td>\n",
       "      <td>0</td>\n",
       "      <td>0</td>\n",
       "      <td>2</td>\n",
       "      <td>1</td>\n",
       "      <td>6</td>\n",
       "      <td>1</td>\n",
       "      <td>...</td>\n",
       "      <td>-0.565995</td>\n",
       "      <td>0.195329</td>\n",
       "      <td>-0.349866</td>\n",
       "      <td>1</td>\n",
       "      <td>0.648059</td>\n",
       "      <td>0.722995</td>\n",
       "      <td>0.886599</td>\n",
       "      <td>0.712412</td>\n",
       "      <td>0.331551</td>\n",
       "      <td>0</td>\n",
       "    </tr>\n",
       "    <tr>\n",
       "      <th>2</th>\n",
       "      <td>0.477839</td>\n",
       "      <td>7</td>\n",
       "      <td>1</td>\n",
       "      <td>2</td>\n",
       "      <td>1</td>\n",
       "      <td>0</td>\n",
       "      <td>0</td>\n",
       "      <td>1</td>\n",
       "      <td>6</td>\n",
       "      <td>1</td>\n",
       "      <td>...</td>\n",
       "      <td>-0.565995</td>\n",
       "      <td>0.195329</td>\n",
       "      <td>-0.349866</td>\n",
       "      <td>1</td>\n",
       "      <td>0.648059</td>\n",
       "      <td>0.722995</td>\n",
       "      <td>0.886599</td>\n",
       "      <td>0.712412</td>\n",
       "      <td>0.331551</td>\n",
       "      <td>0</td>\n",
       "    </tr>\n",
       "    <tr>\n",
       "      <th>3</th>\n",
       "      <td>1.821551</td>\n",
       "      <td>0</td>\n",
       "      <td>1</td>\n",
       "      <td>5</td>\n",
       "      <td>0</td>\n",
       "      <td>0</td>\n",
       "      <td>0</td>\n",
       "      <td>1</td>\n",
       "      <td>6</td>\n",
       "      <td>1</td>\n",
       "      <td>...</td>\n",
       "      <td>-0.565995</td>\n",
       "      <td>0.195329</td>\n",
       "      <td>-0.349866</td>\n",
       "      <td>1</td>\n",
       "      <td>0.648059</td>\n",
       "      <td>0.722995</td>\n",
       "      <td>0.886599</td>\n",
       "      <td>0.712412</td>\n",
       "      <td>0.331551</td>\n",
       "      <td>0</td>\n",
       "    </tr>\n",
       "    <tr>\n",
       "      <th>4</th>\n",
       "      <td>0.093921</td>\n",
       "      <td>1</td>\n",
       "      <td>1</td>\n",
       "      <td>7</td>\n",
       "      <td>1</td>\n",
       "      <td>0</td>\n",
       "      <td>0</td>\n",
       "      <td>1</td>\n",
       "      <td>6</td>\n",
       "      <td>1</td>\n",
       "      <td>...</td>\n",
       "      <td>-0.565995</td>\n",
       "      <td>0.195329</td>\n",
       "      <td>-0.349866</td>\n",
       "      <td>1</td>\n",
       "      <td>0.648059</td>\n",
       "      <td>0.722995</td>\n",
       "      <td>0.886599</td>\n",
       "      <td>0.712412</td>\n",
       "      <td>0.331551</td>\n",
       "      <td>0</td>\n",
       "    </tr>\n",
       "  </tbody>\n",
       "</table>\n",
       "<p>5 rows × 21 columns</p>\n",
       "</div>"
      ],
      "text/plain": [
       "        age  job  marital  education  default  housing  loan  contact  month  \\\n",
       "0 -0.002059    0        1          1        0        0     0        1      6   \n",
       "1  1.533613    7        1          3        0        0     2        1      6   \n",
       "2  0.477839    7        1          2        1        0     0        1      6   \n",
       "3  1.821551    0        1          5        0        0     0        1      6   \n",
       "4  0.093921    1        1          7        1        0     0        1      6   \n",
       "\n",
       "   day_of_week  ...  campaign     pdays  previous  poutcome  emp.var.rate  \\\n",
       "0            1  ... -0.565995  0.195329 -0.349866         1      0.648059   \n",
       "1            1  ... -0.565995  0.195329 -0.349866         1      0.648059   \n",
       "2            1  ... -0.565995  0.195329 -0.349866         1      0.648059   \n",
       "3            1  ... -0.565995  0.195329 -0.349866         1      0.648059   \n",
       "4            1  ... -0.565995  0.195329 -0.349866         1      0.648059   \n",
       "\n",
       "   cons.price.idx  cons.conf.idx  euribor3m  nr.employed  y  \n",
       "0        0.722995       0.886599   0.712412     0.331551  0  \n",
       "1        0.722995       0.886599   0.712412     0.331551  0  \n",
       "2        0.722995       0.886599   0.712412     0.331551  0  \n",
       "3        0.722995       0.886599   0.712412     0.331551  0  \n",
       "4        0.722995       0.886599   0.712412     0.331551  0  \n",
       "\n",
       "[5 rows x 21 columns]"
      ]
     },
     "execution_count": 106,
     "metadata": {},
     "output_type": "execute_result"
    }
   ],
   "source": [
    "from sklearn.preprocessing import StandardScaler\n",
    "\n",
    "# Using the function Standard Scaler to perform scaling\n",
    "scal = StandardScaler()\n",
    "\n",
    "# List of numerical columns to scale\n",
    "num_columns = ['age', 'duration', 'pdays', 'previous','campaign', 'emp.var.rate', 'euribor3m'\n",
    "               ,'cons.conf.idx','cons.price.idx', 'nr.employed']\n",
    "\n",
    "# Apply scaling to the numerical columns\n",
    "df2[num_columns] = scal.fit_transform(df2[num_columns])\n",
    "\n",
    "# Display the first few rows of the dataframe after scaling\n",
    "df2.head()\n"
   ]
  },
  {
   "cell_type": "markdown",
   "id": "b0edf7a4",
   "metadata": {},
   "source": [
    "### Splitting the dataset "
   ]
  },
  {
   "cell_type": "markdown",
   "id": "88b7eddf",
   "metadata": {},
   "source": [
    "I have splitted the dataset into 80:20 ratio."
   ]
  },
  {
   "cell_type": "code",
   "execution_count": 107,
   "id": "6bd455f2",
   "metadata": {},
   "outputs": [
    {
     "data": {
      "text/plain": [
       "((32934, 20), (8234, 20), (32934,), (8234,))"
      ]
     },
     "execution_count": 107,
     "metadata": {},
     "output_type": "execute_result"
    }
   ],
   "source": [
    "from sklearn.model_selection import train_test_split\n",
    "\n",
    "# Defining the feature/attributes and the target variable i.e. Y\n",
    "X = df2.drop('y', axis=1)\n",
    "y = df2['y']\n",
    "\n",
    "# Splitting the dataset into training and testing sets \n",
    "X_train, X_test, y_train, y_test = train_test_split(X, y, test_size=0.2, random_state=42)\n",
    "\n",
    "# Using the shape function to check the dataframe.\n",
    "X_train.shape, X_test.shape, y_train.shape, y_test.shape\n"
   ]
  },
  {
   "cell_type": "markdown",
   "id": "6928c004",
   "metadata": {},
   "source": [
    "### Implementing Logistic Regression"
   ]
  },
  {
   "cell_type": "markdown",
   "id": "f4fe8c0c",
   "metadata": {},
   "source": [
    "The reason of choosing this model to implement is that Logistic Regression is the baseline model to implement and interpret the model result and prediction. \n",
    "This is one of the **Parametric Model** which needs to be used. "
   ]
  },
  {
   "cell_type": "code",
   "execution_count": 108,
   "id": "58cb3a49",
   "metadata": {},
   "outputs": [
    {
     "name": "stdout",
     "output_type": "stream",
     "text": [
      "Logistic Regression Model Evaluation\n",
      "Accuracy: 0.9145008501335924\n",
      "Precision: 0.6879432624113475\n",
      "Recall: 0.42358078602620086\n",
      "F1 Score: 0.5243243243243243\n",
      "ROC-AUC Score: 0.9376450780572162\n"
     ]
    }
   ],
   "source": [
    "from sklearn.linear_model import LogisticRegression\n",
    "from sklearn.metrics import accuracy_score, classification_report\n",
    "\n",
    "#Defining the Logistic Regression Model  with increased max_iter beacause of large telecom dataset and so to better fit the model  \n",
    "logreg = LogisticRegression(random_state=42, max_iter=1000)\n",
    "\n",
    "# Training the Logistic Regression model and .fit is used as MLE (Maximum Likelihood Estimation)\n",
    "logreg.fit(X_train, y_train)\n",
    "\n",
    "# Predicting the result on test dataset using the model\n",
    "logreg_predictions = logreg.predict(X_test)\n",
    "logreg_prob = logreg.predict_proba(X_test)[:, 1]  # Probabilities are for the positive classes\n",
    "\n",
    "# Evaluating the performance of model using the common evaluation metrics which is imported - \n",
    "\n",
    "from sklearn.metrics import accuracy_score, precision_score, recall_score, f1_score, roc_auc_score\n",
    "\n",
    "logreg_accuracy = accuracy_score(y_test, logreg_predictions)\n",
    "logreg_precision = precision_score(y_test, logreg_predictions)\n",
    "logreg_recall = recall_score(y_test, logreg_predictions)\n",
    "logreg_f1 = f1_score(y_test, logreg_predictions)\n",
    "logreg_roc_auc = roc_auc_score(y_test, logreg_prob) #As ROC-AUC is being calculated on probabilities\n",
    "\n",
    "(logreg_accuracy, logreg_precision, logreg_recall, logreg_f1, logreg_roc_auc) \n",
    "\n",
    "# Printing the results\n",
    "\n",
    "print(\"Logistic Regression Model Evaluation\")\n",
    "print(\"Accuracy:\", logreg_accuracy)\n",
    "print(\"Precision:\", logreg_precision)\n",
    "print(\"Recall:\", logreg_recall)\n",
    "print(\"F1 Score:\", logreg_f1)\n",
    "print(\"ROC-AUC Score:\", logreg_roc_auc)\n"
   ]
  },
  {
   "cell_type": "markdown",
   "id": "9f6285df",
   "metadata": {},
   "source": [
    "### Plotting the AUC-ROC Curve"
   ]
  },
  {
   "cell_type": "code",
   "execution_count": 109,
   "id": "46efc56d",
   "metadata": {},
   "outputs": [
    {
     "data": {
      "image/png": "[encoded data removed]",
      "text/plain": [
       "<Figure size 720x576 with 1 Axes>"
      ]
     },
     "metadata": {
      "needs_background": "light"
     },
     "output_type": "display_data"
    }
   ],
   "source": [
    "from sklearn.metrics import roc_curve, auc\n",
    "\n",
    "# Calculating the  true-positive rates and false-positive rates\n",
    "tpr, fpr, thresholds = roc_curve(y_test, logreg_prob)\n",
    "\n",
    "# Calculating the AUC\n",
    "roc_auc = auc(tpr, fpr)\n",
    "\n",
    "# Plotting the curve\n",
    "plt.figure(figsize=(10, 8))\n",
    "plt.plot(tpr, fpr, color='darkorange', lw=2, label=f'ROC curve (area = {roc_auc:.2f})') # to display the score and used f-string\n",
    "plt.plot([0, 1], [0, 1], color='blue', lw=2, linestyle='--')\n",
    "plt.xlim([0.0, 1.0])\n",
    "plt.ylim([0.0, 1.05])\n",
    "plt.xlabel('False Positive Rate')\n",
    "plt.ylabel('True Positive Rate')\n",
    "plt.title('ROC Curve of Logistic Regression')\n",
    "plt.legend(loc=\"lower right\")\n",
    "plt.show()\n"
   ]
  },
  {
   "cell_type": "markdown",
   "id": "eb22e4c3",
   "metadata": {},
   "source": [
    "### Estimation Method (Maximum Likelihood Estimation)"
   ]
  },
  {
   "cell_type": "code",
   "execution_count": 110,
   "id": "d645cac9",
   "metadata": {},
   "outputs": [
    {
     "name": "stderr",
     "output_type": "stream",
     "text": [
      "/var/folders/x8/hnnfgb_x2pld5b8q59wy9h_80000gn/T/ipykernel_72538/2916325567.py:4: DeprecationWarning: `np.int` is a deprecated alias for the builtin `int`. To silence this warning, use `int` by itself. Doing this will not modify any behavior and is safe. When replacing `np.int`, you may wish to use e.g. `np.int64` or `np.int32` to specify the precision. If you wish to review your current use, check the release note link for additional information.\n",
      "Deprecated in NumPy 1.20; for more details and guidance: https://numpy.org/devdocs/release/1.20.0-notes.html#deprecations\n",
      "  y_synth = (X_synth > 0).astype(np.int)\n",
      "/Users/ahuja/opt/anaconda3/lib/python3.9/site-packages/sklearn/utils/validation.py:993: DataConversionWarning: A column-vector y was passed when a 1d array was expected. Please change the shape of y to (n_samples, ), for example using ravel().\n",
      "  y = column_or_1d(y, warn=True)\n"
     ]
    },
    {
     "data": {
      "image/png": "[encoded data removed]",
      "text/plain": [
       "<Figure size 720x576 with 1 Axes>"
      ]
     },
     "metadata": {
      "needs_background": "light"
     },
     "output_type": "display_data"
    }
   ],
   "source": [
    "# Generating the synthetic data\n",
    "np.random.seed(42) # setting the seed for reproducibility\n",
    "X_synth = np.random.randn(100, 1)\n",
    "y_synth = (X_synth > 0).astype(np.int)\n",
    "\n",
    "# Now fitting the logistic regression model to estimate\n",
    "logreg_synthetic = LogisticRegression()\n",
    "logreg_synthetic.fit(X_synth, y_synth)\n",
    "\n",
    "# Generating values for X\n",
    "X_test_synthetic = np.linspace(-3, 3, 1000).reshape(-1, 1)\n",
    "\n",
    "# Using the fitted model to predict the outcome\n",
    "y_proba_synthetic = logreg_synthetic.predict_proba(X_test_synthetic)\n",
    "\n",
    "# Plotting  the curve\n",
    "plt.figure(figsize=(10, 8))\n",
    "plt.scatter(X_synth, y_synth, c='blue', label='Data')\n",
    "plt.plot(X_test_synthetic, y_proba_synthetic[:, 1], color='red', label='Sigmoid Curve') # Because Sigmoid curve is used to estimate\n",
    "plt.xlabel('X')\n",
    "plt.ylabel('Probability')\n",
    "plt.title('Logistic Regression with Maximum Liklihood Estimation')\n",
    "plt.legend(loc='lower right')\n",
    "plt.show()\n"
   ]
  },
  {
   "cell_type": "markdown",
   "id": "111e2457",
   "metadata": {},
   "source": [
    "The above graph visualises the relationship of logistic regression using the Maximum Liklihood Estimation, \n",
    "- The blue dot represents the observations, this observations by the model has been predicted for the value as 1 or 0 for the probability of subscribing to the telecom services\n",
    "\n",
    "- The red curve is the sigmoid curve which illustrates the output of what happens to the chance of being in the different class when the prediction variable is changed.\n",
    "\n",
    "- The point of probabiltiy of 0.5 is in the middle of red line which is like a breakeven for predicting the dependent variable, as probabiltiy above 0.5 will lead to class 1 and below the prediction value of 0.5 is assigned to class 0. "
   ]
  },
  {
   "cell_type": "markdown",
   "id": "c20e39b5",
   "metadata": {},
   "source": [
    "### Implementing Random Forest"
   ]
  },
  {
   "cell_type": "code",
   "execution_count": 111,
   "id": "de9931d5",
   "metadata": {},
   "outputs": [
    {
     "name": "stdout",
     "output_type": "stream",
     "text": [
      "Random Forest Results\n",
      "Accuracy: 0.9151080884138936\n",
      "Precision: 0.6452476572958501\n",
      "Recall: 0.5262008733624454\n",
      "F1 Score: 0.5796752856283824\n",
      "ROC-AUC Score: 0.9452274764264941\n"
     ]
    }
   ],
   "source": [
    "from sklearn.ensemble import RandomForestClassifier\n",
    "\n",
    "# Defining the classifier\n",
    "random_forest = RandomForestClassifier(random_state=42, n_estimators=100)\n",
    "\n",
    "# Training the model with training set\n",
    "random_forest.fit(X_train, y_train)\n",
    "\n",
    "# Predicting on the testing set using the model\n",
    "rf_predictions = random_forest.predict(X_test)\n",
    "rf_prob = random_forest.predict_proba(X_test)[:, 1] \n",
    "\n",
    "# Evaluating the performance of model using the evaluation metrics\n",
    "rf_accuracy = accuracy_score(y_test, rf_predictions)\n",
    "rf_precision = precision_score(y_test, rf_predictions)\n",
    "rf_recall = recall_score(y_test, rf_predictions)\n",
    "rf_f1 = f1_score(y_test, rf_predictions)\n",
    "rf_roc_auc = roc_auc_score(y_test, rf_prob)\n",
    "\n",
    "# Printing the results\n",
    "print(\"Random Forest Results\")\n",
    "print(\"Accuracy:\", rf_accuracy)\n",
    "print(\"Precision:\", rf_precision)\n",
    "print(\"Recall:\", rf_recall)\n",
    "print(\"F1 Score:\", rf_f1)\n",
    "print(\"ROC-AUC Score:\", rf_roc_auc)\n"
   ]
  },
  {
   "cell_type": "markdown",
   "id": "853a292c",
   "metadata": {},
   "source": [
    "### Plotting the AUC-ROC Curve"
   ]
  },
  {
   "cell_type": "code",
   "execution_count": 112,
   "id": "bd0d595c",
   "metadata": {},
   "outputs": [
    {
     "data": {
      "image/png": "[encoded data removed]",
      "text/plain": [
       "<Figure size 720x576 with 1 Axes>"
      ]
     },
     "metadata": {
      "needs_background": "light"
     },
     "output_type": "display_data"
    }
   ],
   "source": [
    "# Calculating the  true-positive rates and false-positive rates\n",
    "tpr_rf, fpr_rf, thresholds_rf = roc_curve(y_test, rf_prob)\n",
    "\n",
    "# Calculating the AUC\n",
    "roc_auc_rf = auc(tpr_rf, fpr_rf)\n",
    "\n",
    "# Plot the ROC curve\n",
    "plt.figure(figsize=(10, 8))\n",
    "plt.plot(tpr_rf, fpr_rf, color='green', lw=2, label=f'Random Forest ROC curve (area = {roc_auc_rf:.2f})') # to display the score and used f-string\n",
    "plt.plot([0, 1], [0, 1], color='navy', lw=2, linestyle='--')\n",
    "plt.xlim([0.0, 1.0])\n",
    "plt.ylim([0.0, 1.05])\n",
    "plt.xlabel('False Positive Rate')\n",
    "plt.ylabel('True Positive Rate')\n",
    "plt.title('ROC Curve of Random Forest')\n",
    "plt.legend(loc=\"lower right\")\n",
    "plt.show()\n"
   ]
  },
  {
   "cell_type": "markdown",
   "id": "2f87580e",
   "metadata": {},
   "source": [
    "## Model Comparison"
   ]
  },
  {
   "cell_type": "markdown",
   "id": "891c8401",
   "metadata": {},
   "source": [
    "First, I have plotted both the Logistic Regression and Random Forest model score on the ROC-AUC curve for easier comparison between them "
   ]
  },
  {
   "cell_type": "code",
   "execution_count": 113,
   "id": "07e008f5",
   "metadata": {},
   "outputs": [
    {
     "data": {
      "image/png": "[encoded data removed]",
      "text/plain": [
       "<Figure size 720x576 with 1 Axes>"
      ]
     },
     "metadata": {
      "needs_background": "light"
     },
     "output_type": "display_data"
    }
   ],
   "source": [
    "# As fpr_rf, tpr_rf, roc_auc_rf for Random Forest as calculated previously\n",
    "\n",
    "plt.figure(figsize=(10, 8))\n",
    "\n",
    "# Plotting Logistic Regression ROC\n",
    "plt.plot(tpr, fpr, label=f'Logistic Regression (AUC = {roc_auc:.2f})', color='darkorange', lw=2)\n",
    "\n",
    "# Plotting the Random Forest ROC\n",
    "plt.plot(tpr_rf, fpr_rf, label=f'Random Forest (AUC = {roc_auc_rf:.2f})', color='red', lw=2)\n",
    "\n",
    "# Plotting the  baseline (Models AUC would be 0.5)\n",
    "plt.plot([0, 1], [0, 1], color='navy', lw=2, linestyle='--')\n",
    "\n",
    "# Labeling the plot\n",
    "plt.xlim([0.0, 1.0])\n",
    "plt.ylim([0.0, 1.05])\n",
    "plt.xlabel('False Positive Rate')\n",
    "plt.ylabel('True Positive Rate')\n",
    "plt.title('ROC Curve comparing the result of both models')\n",
    "plt.legend(loc=\"lower right\")\n",
    "plt.show()\n"
   ]
  },
  {
   "cell_type": "code",
   "execution_count": 114,
   "id": "e824c478",
   "metadata": {},
   "outputs": [
    {
     "data": {
      "image/png": "[encoded data removed]",
      "text/plain": [
       "<Figure size 720x576 with 1 Axes>"
      ]
     },
     "metadata": {
      "needs_background": "light"
     },
     "output_type": "display_data"
    }
   ],
   "source": [
    "\n",
    "# Assuming you have the following metrics from both classifiers\n",
    "logreg_metrics = [logreg_accuracy, logreg_precision, logreg_recall, logreg_f1]\n",
    "rf_metrics = [rf_accuracy, rf_precision, rf_recall, rf_f1]\n",
    "\n",
    "# Defining the metrics and their scores from both models\n",
    "metrics = ['Accuracy', 'Precision', 'Recall', 'F1 Score']\n",
    "logreg_values = logreg_metrics\n",
    "rf_values = rf_metrics\n",
    "\n",
    "#  the positions of the bars\n",
    "x = np.arange(len(metrics))  # the label locations\n",
    "width = 0.35  # the width of the bars in graph\n",
    "\n",
    "# Creating the plot\n",
    "fig, ax = plt.subplots(figsize=(10, 8))\n",
    "rects1 = ax.bar(x - width/2, logreg_values, width, label='Logistic Regression', color='skyblue')\n",
    "rects2 = ax.bar(x + width/2, rf_values, width, label='Random Forest', color='lightgreen')\n",
    "\n",
    "# Adding labels and titles\n",
    "ax.set_ylabel('Scores')\n",
    "ax.set_title('Model Comparison')\n",
    "ax.set_xticks(x)\n",
    "ax.set_xticklabels(metrics)\n",
    "ax.legend()\n",
    "\n",
    "# Attaching score above each bar\n",
    "def autolabel(rects):\n",
    "    for rect in rects:\n",
    "        height = rect.get_height()\n",
    "        ax.annotate(f'{height:.2f}',\n",
    "                    xy=(rect.get_x() + rect.get_width() / 2, height),\n",
    "                    xytext=(0, 3),  # 3 points vertical offset\n",
    "                    textcoords=\"offset points\",\n",
    "                    ha='center', va='bottom')\n",
    "autolabel(rects1)\n",
    "autolabel(rects2)\n",
    "fig.tight_layout()\n",
    "plt.show()"
   ]
  },
  {
   "cell_type": "markdown",
   "id": "2c575d58",
   "metadata": {},
   "source": [
    "### Business Insights"
   ]
  },
  {
   "cell_type": "code",
   "execution_count": 115,
   "id": "5d73585f",
   "metadata": {},
   "outputs": [
    {
     "data": {
      "image/png": "[encoded data removed]",
      "text/plain": [
       "<Figure size 720x576 with 1 Axes>"
      ]
     },
     "metadata": {
      "needs_background": "light"
     },
     "output_type": "display_data"
    }
   ],
   "source": [
    "\n",
    "# Generating the important features from the Random Forest model to generatre insights from the model\n",
    "feature_importance = random_forest.feature_importances_\n",
    "\n",
    "# Sorting the feature  in descending order for better interpretation\n",
    "sorted_ind = np.argsort(feature_importance)[::-1]\n",
    "\n",
    "# Plot the feature importances\n",
    "plt.figure(figsize=(10, 8))\n",
    "plt.title(\"Feature Importances from Random Forest Model\")\n",
    "plt.bar(range(X_train.shape[1]), feature_importance[sorted_ind], align=\"center\")\n",
    "plt.xticks(range(X_train.shape[1]), X_train.columns[sorted_ind], rotation=45, size=10)\n",
    "plt.xlabel(\"Features\")\n",
    "plt.ylabel(\"Importance\")\n",
    "plt.show()\n"
   ]
  },
  {
   "cell_type": "markdown",
   "id": "3ba4eb39",
   "metadata": {},
   "source": [
    "The above bar chart states the feature or attribute importance in respect of **Random forest Model** to the outcome of marketing campign, the business insights generated through this chart are as follow- \n",
    "\n",
    "- **Duration** column is the most significant feature in terms of the better success of marketing campign, however the limitation for this is that the duration is not acknowledged before the call is connected. \n",
    "\n",
    "- The **age** column has also shown more response that other features, implying that for taking any business decisiion and for customer segementation, the ceratin age group can be better for the succcess of marketing campign \n",
    "\n",
    "- The kind of **Job** also affect how well the marketing campign performs, which suggests that company can focus on ceratin job roles which are more likely to subscribe.\n",
    "\n",
    "- **Education** also plays a similar role as job, by having little less importance than job, The company can also target the customers on the basis of Education, like which education level subscribe the most or which education level has more potential or people to subscribe. \n",
    "\n",
    "The above insights attributes is also described using EDA below\n",
    "\n"
   ]
  },
  {
   "cell_type": "code",
   "execution_count": 116,
   "id": "9e97da25",
   "metadata": {},
   "outputs": [
    {
     "data": {
      "image/png": "[encoded data removed]",
      "text/plain": [
       "<Figure size 720x576 with 1 Axes>"
      ]
     },
     "metadata": {
      "needs_background": "light"
     },
     "output_type": "display_data"
    }
   ],
   "source": [
    "# Generating the coefficients from the model\n",
    "logreg_coefficients = logreg.coef_[0]\n",
    "\n",
    "# Sorting the feature  in descending order for better interpretation\n",
    "sorted_ind_logreg = np.argsort(np.abs(logreg_coefficients))[::-1]\n",
    "\n",
    "# Plotting the coefficients of Logistic Regression Model\n",
    "plt.figure(figsize=(10, 8))\n",
    "plt.title(\"Coefficients from Logistic Regression\")\n",
    "plt.bar(range(X_train.shape[1]), logreg_coefficients[sorted_ind_logreg], align=\"center\")\n",
    "plt.xticks(range(X_train.shape[1]), X_train.columns[sorted_ind_logreg], rotation=45)\n",
    "plt.xlabel(\"Features\")\n",
    "plt.ylabel(\"Coefficient\")\n",
    "plt.show()"
   ]
  },
  {
   "cell_type": "markdown",
   "id": "7fcb22c9",
   "metadata": {},
   "source": [
    "The above bar chart states the feature or attribute importance from the logistic regression model to the outcome of marketing campign, the business insights generated through this chart are as follow- \n",
    "\n",
    "\n",
    "- **Duration** attribute has more significant improtance than any other feature, thus company should focus on customer segementation with the use of data from the Duration Column.\n",
    "\n",
    "- The **Contact** attribute has shown negative relationship with the success rate of marketing campign, thus company should not focus on the Contact feature for grouping the customers and for not promoting the campaign. \n",
    "\n",
    "- The similar result is shown for **Default** attribute, thus may take similar decision as Contact, the default attribute has not significant correlation with the target variable i.e. y. \n",
    "\n",
    "- The features like **Age** and **Education** shows a little positive response to the campaign, thus company can focus on delivering better marketing campaign focused on this category, the more in depth education domain which should be focused on are described below.\n",
    "\n"
   ]
  },
  {
   "cell_type": "markdown",
   "id": "53bdc0f9",
   "metadata": {},
   "source": [
    "References \n",
    "\n",
    "https://www.freecodecamp.org/news/with-open-in-python-with-statement-syntax-example/#:~:text=To%20use%20the%20open%20function,file%20in%20a%20print%20function.\n",
    "\n",
    "https://pandas.pydata.org/docs/reference/general_functions.html\n",
    "\n",
    "https://matplotlib.org/stable/api/pyplot_summary.html\n",
    "\n",
    "https://www.simplilearn.com/tutorials/python-tutorial/map-in-python#:~:text=Map%20in%20Python%20is%20a,to%20the%20map%20in%20Python.\n",
    "\n",
    "https://numpy.org/doc/stable/reference/\n",
    "\n",
    "https://numpy.org/doc/stable/reference/routines.math.html\n",
    "\n",
    "https://matplotlib.org/stable/tutorials/pyplot.html \n",
    "\n",
    "https://matplotlib.org/stable/api/pyplot_summary.html\n",
    "\n",
    "https://seaborn.pydata.org/\n"
   ]
  }
 ],
 "metadata": {
  "kernelspec": {
   "display_name": "Python 3 (ipykernel)",
   "language": "python",
   "name": "python3"
  },
  "language_info": {
   "codemirror_mode": {
    "name": "ipython",
    "version": 3
   },
   "file_extension": ".py",
   "mimetype": "text/x-python",
   "name": "python",
   "nbconvert_exporter": "python",
   "pygments_lexer": "ipython3",
   "version": "3.9.18"
  }
 },
 "nbformat": 4,
 "nbformat_minor": 5
}
